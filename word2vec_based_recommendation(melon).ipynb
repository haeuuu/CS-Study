{
  "nbformat": 4,
  "nbformat_minor": 0,
  "metadata": {
    "accelerator": "GPU",
    "colab": {
      "name": "word2vec plain.ipynb",
      "provenance": [],
      "collapsed_sections": [],
      "machine_shape": "hm"
    },
    "kernelspec": {
      "display_name": "Python 3",
      "name": "python3"
    }
  },
  "cells": [
    {
      "cell_type": "markdown",
      "metadata": {
        "id": "fiXlnvhD12Dy"
      },
      "source": [
        "# ⛳ **Word2Vec을 이용한 추천 [Reference](https://arena.kakao.com/forum/topics/232)**\n",
        "\n",
        "```\n",
        "Music nDCG: 0.143337\n",
        "Tag nDCG: 0.419873\n",
        "Score: 0.184817\n",
        "```\n",
        "\n",
        "> 모든 item, id는 str으로 넣자.  \n",
        "\n",
        "1. corpus = songs + tags로 두고 word2vec을 학습시킨다. (item2vec)\n",
        "  * window size는 전체를 고려하도록 크게 잡는다.\n",
        "2. `playlist embedding = 속한 song, tag embedding의 합`으로 embedding시킬 수 있다. 모두 계산하여 `WordEmbeddingsKeyedVectors`에 add해준다."
      ]
    },
    {
      "cell_type": "markdown",
      "metadata": {
        "id": "CCoCjPlJGlpU"
      },
      "source": [
        "* 노래만 점수 낮은 이유 => int형 str형 섞여있었음 omg\n",
        "* worker를 여러개로 하면 돌릴때마다 다르다. (worker가 thread려나?)"
      ]
    },
    {
      "cell_type": "markdown",
      "metadata": {
        "id": "zett22Jj0p6c"
      },
      "source": [
        "# 🧰 **Utils**"
      ]
    },
    {
      "cell_type": "code",
      "metadata": {
        "id": "lkKeh-in-Ogm"
      },
      "source": [
        "PYTHONHASHSEED = 0"
      ],
      "execution_count": 204,
      "outputs": []
    },
    {
      "cell_type": "code",
      "metadata": {
        "id": "odXrrv4rDRh8"
      },
      "source": [
        "import warnings\n",
        "\n",
        "warnings.filterwarnings(action='ignore') "
      ],
      "execution_count": null,
      "outputs": []
    },
    {
      "cell_type": "code",
      "metadata": {
        "id": "W-VVIn4n2nkZ"
      },
      "source": [
        "import os,io\n",
        "import json\n",
        "import time\n",
        "import pickle\n",
        "\n",
        "from collections import Counter\n",
        "from itertools import chain\n",
        "\n",
        "from tqdm import tqdm\n",
        "import numpy as np\n",
        "\n",
        "from gensim.models import Word2Vec\n",
        "from gensim.models.keyedvectors import WordEmbeddingsKeyedVectors\n",
        "\n",
        "dir = '/content/drive/MyDrive/Melon-PL-Continuation/11월 수정중   카카오 아레나 (멜론 추천)/1206 word2vec'"
      ],
      "execution_count": 1,
      "outputs": []
    },
    {
      "cell_type": "code",
      "metadata": {
        "id": "axHrWdNQ1zII"
      },
      "source": [
        "def write_json(data, fname):\n",
        "    def _conv(o):\n",
        "        if isinstance(o, (np.int64, np.int32)):\n",
        "            return int(o)\n",
        "        raise TypeError\n",
        "\n",
        "    with io.open(fname, \"w\", encoding=\"utf-8\") as f:\n",
        "        json_str = json.dumps(data, ensure_ascii=False, default=_conv)\n",
        "        f.write(json_str)\n",
        "\n",
        "def load_json(fname):\n",
        "    with open(fname, encoding=\"utf-8\") as f:\n",
        "        json_obj = json.load(f)\n",
        "\n",
        "    return json_obj"
      ],
      "execution_count": 2,
      "outputs": []
    },
    {
      "cell_type": "code",
      "metadata": {
        "id": "sBJqyo1SiDcs"
      },
      "source": [
        "class ArenaEvaluator:\n",
        "    def _idcg(self, l):\n",
        "        return sum((1.0 / np.log(i + 2) for i in range(l)))\n",
        "\n",
        "    def __init__(self):\n",
        "        self._idcgs = [self._idcg(i) for i in range(101)]\n",
        "\n",
        "    def _ndcg(self, gt, rec):\n",
        "        dcg = 0.0\n",
        "        for i, r in enumerate(rec):\n",
        "            if r in gt:\n",
        "                dcg += 1.0 / np.log(i + 2)\n",
        "\n",
        "        return dcg / self._idcgs[len(gt)]\n",
        "\n",
        "    def _load_json(self,fname):\n",
        "        with open(fname, encoding=\"utf-8\") as f:\n",
        "            json_obj = json.load(f)\n",
        "\n",
        "        return json_obj\n",
        "\n",
        "    def _eval(self, gt_fname, rec_fname):\n",
        "        gt_playlists = self._load_json(gt_fname)\n",
        "        gt_dict = {g[\"id\"]: g for g in gt_playlists}\n",
        "        rec_playlists = self._load_json(rec_fname)\n",
        "\n",
        "        gt_ids = set([g[\"id\"] for g in gt_playlists])\n",
        "        rec_ids = set([r[\"id\"] for r in rec_playlists])\n",
        "\n",
        "        if gt_ids != rec_ids:\n",
        "            raise Exception(\"결과의 플레이리스트 수가 올바르지 않습니다.\")\n",
        "\n",
        "        rec_song_counts = [len(p[\"songs\"]) for p in rec_playlists]\n",
        "        rec_tag_counts = [len(p[\"tags\"]) for p in rec_playlists]\n",
        "\n",
        "        if set(rec_song_counts) != set([100]):\n",
        "            raise Exception(\"추천 곡 결과의 개수가 맞지 않습니다.\")\n",
        "\n",
        "        if set(rec_tag_counts) != set([10]):\n",
        "            raise Exception(\"추천 태그 결과의 개수가 맞지 않습니다.\")\n",
        "\n",
        "        rec_unique_song_counts = [len(set(p[\"songs\"])) for p in rec_playlists]\n",
        "        rec_unique_tag_counts = [len(set(p[\"tags\"])) for p in rec_playlists]\n",
        "\n",
        "        if set(rec_unique_song_counts) != set([100]):\n",
        "            raise Exception(\"한 플레이리스트에 중복된 곡 추천은 허용되지 않습니다.\")\n",
        "\n",
        "        if set(rec_unique_tag_counts) != set([10]):\n",
        "            raise Exception(\"한 플레이리스트에 중복된 태그 추천은 허용되지 않습니다.\")\n",
        "\n",
        "        music_ndcg = 0.0\n",
        "        tag_ndcg = 0.0\n",
        "\n",
        "        for rec in rec_playlists:\n",
        "            gt = gt_dict[rec[\"id\"]]\n",
        "            music_ndcg += self._ndcg(gt[\"songs\"], rec[\"songs\"][:100])\n",
        "            tag_ndcg += self._ndcg(gt[\"tags\"], rec[\"tags\"][:10])\n",
        "\n",
        "        music_ndcg = music_ndcg / len(rec_playlists)\n",
        "        tag_ndcg = tag_ndcg / len(rec_playlists)\n",
        "        score = music_ndcg * 0.85 + tag_ndcg * 0.15\n",
        "\n",
        "        return music_ndcg, tag_ndcg, score\n",
        "\n",
        "    def evaluate(self, gt_fname, rec_fname):\n",
        "        try:\n",
        "            music_ndcg, tag_ndcg, score = self._eval(gt_fname, rec_fname)\n",
        "            print(f\"Music nDCG: {music_ndcg:.6}\")\n",
        "            print(f\"Tag nDCG: {tag_ndcg:.6}\")\n",
        "            print(f\"Score: {score:.6}\")\n",
        "        except Exception as e:\n",
        "            print(e)"
      ],
      "execution_count": null,
      "outputs": []
    },
    {
      "cell_type": "markdown",
      "metadata": {
        "id": "z5Qc_2HGzarw"
      },
      "source": [
        "# 📚 **Base Results 생성하기**\n",
        "baseline  결과를 저장해놓고 이용할 정보가 없는 경우 끌어와 쓴다."
      ]
    },
    {
      "cell_type": "code",
      "metadata": {
        "id": "hF40TPQ4zt45"
      },
      "source": [
        "class GenreExpPopular:\n",
        "\n",
        "    def remove_seen(self, seen, recommend):\n",
        "        res = []\n",
        "        for item in recommend:\n",
        "            if item not in seen:\n",
        "                res.append(item)\n",
        "                if len(res) == 100:\n",
        "                    break\n",
        "        return res\n",
        "\n",
        "    def _song_mp_per_genre(self, song_meta, global_mp):\n",
        "\n",
        "        # 1. train data를 기반으로, 장르별 노래 dict를 생성한다.\n",
        "        res = {} # {'댄스' : [0번째 노래, 40번째 노래, ...], '팝' : [1번째 노래, 2번째 노래 , ...],...}\n",
        "\n",
        "        for song_id, song_info in song_meta.items(): # id_to_song info인 dict에서 하나씩 꺼내서\n",
        "            for genre in song_info['song_gn_gnr_basket']: # 해당 노래의 대분류를 하나씩 꺼내서\n",
        "                res.setdefault(genre, []).append(song_id) # 기본값 주고 dict만들기\n",
        "\n",
        "        # 2. 장르별로 노래들의 count의 상위만 추출해서 dict를 수정한다\n",
        "        for genre, song_id_list in res.items(): # 대분류와 곡 list에서 하나씩 꺼내서\n",
        "            frequency = Counter({song_id: global_mp.get(int(song_id), 0) for song_id in song_id_list})  #\n",
        "            res[genre] = [k for k, v in frequency.most_common(200)]\n",
        "\n",
        "        return res\n",
        "\n",
        "    def most_popular(self,playlists, feature, topk_count):\n",
        "        c = Counter()\n",
        "\n",
        "        for plylist in playlists:\n",
        "            c.update(plylist[feature])\n",
        "\n",
        "        topk = c.most_common(topk_count)\n",
        "        return c, [k for k, v in topk]\n",
        "\n",
        "    def _generate_answers(self, song_meta_json, train, questions):\n",
        "        song_meta = {int(song[\"id\"]): song for song in song_meta_json} # id_to_노래정보 dictionary\n",
        "        song_mp_counter, song_mp = self.most_popular(train, \"songs\", 200) # 가장 많이 등장한 노래 일단 200개 추출\n",
        "        tag_mp_counter, tag_mp = self.most_popular(train, \"tags\", 100) # 가장 많이 등장한 태그 일단 100개 추출\n",
        "        song_mp_per_genre = self._song_mp_per_genre(song_meta, song_mp_counter)\n",
        "\n",
        "        answers = []\n",
        "        for q in tqdm(questions):\n",
        "\n",
        "            # step 1 : 가장 많이 등장한 장르 상위 k개 + softmax\n",
        "            genre_counter = Counter()\n",
        "\n",
        "            for song_id in q[\"songs\"]: # 현재 query의 등장 장르 수 계산\n",
        "                for genre in song_meta[song_id][\"song_gn_gnr_basket\"]:\n",
        "                    genre_counter.update({genre: 1})\n",
        "\n",
        "            most_popular_topk = genre_counter.most_common(10) # [ (k,v), (k,v) ,... ]\n",
        "\n",
        "            if len(most_popular_topk) != 0:\n",
        "                genres,scores = zip(*most_popular_topk)\n",
        "                exp_scores = np.exp(scores)\n",
        "                scores = exp_scores/exp_scores.sum()*100\n",
        "\n",
        "                query_songs,cur_songs = q['songs'],[]\n",
        "\n",
        "                for genre, score in zip(genres,scores):\n",
        "                    recommend = self.remove_seen(query_songs, song_mp_per_genre[genre])[:int(score)+1]\n",
        "                    cur_songs.extend(recommend)\n",
        "                    query_songs.extend(recommend)\n",
        "\n",
        "                cur_songs = cur_songs[:100]\n",
        "\n",
        "            else:\n",
        "                cur_songs = self.remove_seen(q[\"songs\"], song_mp)[:100]\n",
        "\n",
        "            answers.append({\n",
        "                \"id\": q[\"id\"],\n",
        "                \"songs\": cur_songs,\n",
        "                \"tags\": self.remove_seen(q[\"tags\"], tag_mp)[:10]\n",
        "            })\n",
        "\n",
        "        return answers\n",
        "\n",
        "    def run(self,result_fname, test = True):\n",
        "\n",
        "        if test:\n",
        "            train_fname = os.path.join(dir, 'train.json')\n",
        "            question_fname = os.path.join(dir, 'val_questions.json')\n",
        "        else:\n",
        "            pass\n",
        "\n",
        "        song_meta_fname ='/content/drive/My Drive/Melon-PL-Continuation/0802/train_split/song_meta.json'\n",
        "\n",
        "        print(\"Loading song meta...\")\n",
        "        song_meta_json = load_json(song_meta_fname)\n",
        "\n",
        "        print(\"Loading train file...\")\n",
        "        train_data = load_json(train_fname)\n",
        "\n",
        "        print(\"Loading question file...\")\n",
        "        questions = load_json(question_fname)\n",
        "\n",
        "        print(\"Writing answers...\")\n",
        "        self.answers = self._generate_answers(song_meta_json, train_data, questions)\n",
        "        write_json(self.answers, os.path.join(dir,result_fname))\n",
        "        print(\"DONE\")"
      ],
      "execution_count": 60,
      "outputs": []
    },
    {
      "cell_type": "code",
      "metadata": {
        "colab": {
          "base_uri": "https://localhost:8080/"
        },
        "id": "5QbyFarq0FHT",
        "outputId": "f9f38e13-d9a2-40e8-d354-1226178004a0"
      },
      "source": [
        "basemodel = GenreExpPopular()\n",
        "basemodel.run('base_results_gep.json', test = True)"
      ],
      "execution_count": 61,
      "outputs": [
        {
          "output_type": "stream",
          "text": [
            "Loading song meta...\n",
            "Loading train file...\n",
            "Loading question file...\n",
            "Writing answers...\n"
          ],
          "name": "stdout"
        },
        {
          "output_type": "stream",
          "text": [
            "100%|██████████| 23015/23015 [00:18<00:00, 1231.14it/s]\n"
          ],
          "name": "stderr"
        },
        {
          "output_type": "stream",
          "text": [
            "DONE\n"
          ],
          "name": "stdout"
        }
      ]
    },
    {
      "cell_type": "code",
      "metadata": {
        "colab": {
          "base_uri": "https://localhost:8080/"
        },
        "id": "UbatfJYYV4nI",
        "outputId": "4e75da36-70bf-4723-96d6-af40a26a6233"
      },
      "source": [
        "evaluator.evaluate(dir + \"/val_answers.json\",dir + \"/base_results_gep.json\")"
      ],
      "execution_count": 62,
      "outputs": [
        {
          "output_type": "stream",
          "text": [
            "Music nDCG: 0.0417793\n",
            "Tag nDCG: 0.162134\n",
            "Score: 0.0598324\n"
          ],
          "name": "stdout"
        }
      ]
    },
    {
      "cell_type": "markdown",
      "metadata": {
        "id": "8MLPX0fO4YWU"
      },
      "source": [
        "# 🏃‍♀ **Train, Validation data 준비하기**"
      ]
    },
    {
      "cell_type": "code",
      "metadata": {
        "id": "YuDh0Abg4e3F"
      },
      "source": [
        "def get_data(test = True):\n",
        "    if test:\n",
        "        train_path = os.path.join(dir, 'train.json')\n",
        "        val_path = os.path.join(dir, 'val_questions.json')\n",
        "    else:\n",
        "        pass\n",
        "\n",
        "    base_path = os.path.join(dir, 'base_results_gep.json')\n",
        "\n",
        "    train = load_json(train_path)\n",
        "    val = load_json(val_path)\n",
        "    base_res = load_json(base_path)\n",
        "\n",
        "    return train, val, base_res"
      ],
      "execution_count": 3,
      "outputs": []
    },
    {
      "cell_type": "code",
      "metadata": {
        "id": "dNJ3k8Ow4jZq"
      },
      "source": [
        "train, val, base_res = get_data(test = True)"
      ],
      "execution_count": 4,
      "outputs": []
    },
    {
      "cell_type": "markdown",
      "metadata": {
        "id": "vc3ejKIwh5Ko"
      },
      "source": [
        "# 🎶 **Playlist2Vec 정의**\n",
        "* popular로만 전체를 채우게 되는 경우가 존재한다.\n",
        "  * train에 아예 없거나 min_counts에 의해 몇개 노래/태그가 제거되고\n",
        "  * val ply를 등록할 때, 원래 query song이 없거나 걸러진 노래/태그만 존재하여 등록이 되지 않고\n",
        "  * sim ply를 찾지 못한다."
      ]
    },
    {
      "cell_type": "code",
      "metadata": {
        "id": "m6uuJ0ghFsoe"
      },
      "source": [
        "class Playlist2Vec:\n",
        "    def __init__(self,train, val, results):\n",
        "        self.train = train\n",
        "        self.val = val\n",
        "        self.results = {}\n",
        "        for ply in results:\n",
        "            self.results[ply['id']] = {'songs':list(map(str,ply['songs'])),'tags':ply['tags']}\n",
        "        self.data = self.train + self.val\n",
        "\n",
        "        print('*** Build Vocab ***')\n",
        "        self.build_vocab()\n",
        "\n",
        "    def build_vocab(self):\n",
        "        self.id_to_songs = {}\n",
        "        self.id_to_tags = {}\n",
        "        self.corpus = []\n",
        "\n",
        "        for ply in self.data:\n",
        "            self.id_to_songs[str(ply['id'])] = [*map(str,ply['songs'])]\n",
        "            self.id_to_tags[str(ply['id'])] = [*map(str,ply['tags'])]\n",
        "\n",
        "            items = self.id_to_songs[str(ply['id'])] + self.id_to_tags[str(ply['id'])]\n",
        "            if len(items) > 1:\n",
        "                self.corpus.append(items)\n",
        "\n",
        "        self.songs = set(chain.from_iterable(self.id_to_songs.values())) \n",
        "        self.tags = set(chain.from_iterable(self.id_to_tags.values())) \n",
        "\n",
        "        print(\"> Corpus :\", len(self.corpus))\n",
        "        print(f'> Songs + Tags = {len(self.songs)} + {len(self.tags)} = {len(self.songs) + len(self.tags)}')\n",
        "        print(\"> Playlist Id Type :\", type(list(self.id_to_songs.keys())[0]),type(list(self.id_to_tags.keys())[0]))\n",
        "\n",
        "    def register_w2v(self, w2v_model):\n",
        "        self.w2v_model = w2v_model\n",
        "        self.p2v_model = WordEmbeddingsKeyedVectors(self.w2v_model.trainables.layer1_size)\n",
        "\n",
        "    def train_w2v(self, min_count = 3, size = 128, window = 210, negative = 5, sg = 1, hs = 0, workers = 1):\n",
        "        # workers = 1 ; for consistency\n",
        "        self.w2v_model = Word2Vec(sentences = self.corpus, min_count= min_count , size = size , window = window, negative = negative , sg = sg, hs = hs, workers = workers)\n",
        "        self.p2v_model = WordEmbeddingsKeyedVectors(self.w2v_model.trainables.layer1_size)\n",
        "\n",
        "    def build_p2v(self):\n",
        "        start = time.time()\n",
        "        pids = []\n",
        "        playlist_embedding = []\n",
        "\n",
        "        # for pid in tqdm(self.id_to_songs.keys()):\n",
        "        for pid in self.id_to_songs.keys():\n",
        "            if len(self.id_to_songs[pid]) < 1:\n",
        "                continue\n",
        "\n",
        "            ply_embedding = 0\n",
        "\n",
        "            for item in self.id_to_songs[pid] + self.id_to_tags[pid]:\n",
        "                if self.w2v_model.wv.vocab.get(str(item)) is None:\n",
        "                    # train data에 없었거나, w2v 학습 과정에서 min_counts에 걸러진 경우\n",
        "                    continue\n",
        "\n",
        "                ply_embedding += self.w2v_model.wv.get_vector(str(item))\n",
        "\n",
        "            if type(ply_embedding) != int: # 한 번이라도 update 되었다면\n",
        "                pids.append(str(pid)) # ! string !\n",
        "                playlist_embedding.append(ply_embedding)\n",
        "\n",
        "        self.p2v_model.add(pids,playlist_embedding)\n",
        "\n",
        "        print(f'> running time : {time.time()-start:.3f}')\n",
        "        print(f'> Register (ply update) : {len(pids)} / {len(self.id_to_songs)}')\n",
        "        val_ids = set([str(p[\"id\"]) for p in self.val])\n",
        "        print(f'> Only {len( val_ids - set(pids) )} of validation set ( total : {len(val_ids)} ) can not find similar playlist in train set.')\n",
        "\n",
        "    def remove_seen(self,seen, recommend, attr):\n",
        "        res = []\n",
        "        limit = [100,10][attr == 'tags']\n",
        "\n",
        "        for item in recommend:\n",
        "            if item not in seen and item not in res:\n",
        "                res.append(item)\n",
        "                if len(res) == limit:\n",
        "                    break\n",
        "        return res\n",
        "\n",
        "    def build_answers(self):\n",
        "        self.answers = []\n",
        "        use_popular = 0\n",
        "        lack_info = Counter()\n",
        "\n",
        "        # for ply in tqdm(self.val):\n",
        "        for ply in self.val:\n",
        "            if self.p2v_model.vocab.get(str(ply['id'])) is not None:\n",
        "\n",
        "                ply_candidates = self.p2v_model.most_similar(str(ply['id']), topn = 200)\n",
        "                song_candidates = []\n",
        "                tag_candidates = []\n",
        "\n",
        "                for cid , _ in ply_candidates:\n",
        "                    song_candidates.extend(self.id_to_songs[str(cid)])\n",
        "                    tag_candidates.extend(self.id_to_tags[str(cid)])\n",
        "\n",
        "                song_most_common = [song for song,_ in Counter(song_candidates).most_common()]\n",
        "                tag_most_common = [tag for tag,_ in Counter(tag_candidates).most_common()]\n",
        "\n",
        "                if len(song_most_common) < 100:\n",
        "                    lack_info[len(song_most_common)] += 1\n",
        "            else:\n",
        "                use_popular += 1\n",
        "                song_most_common = []\n",
        "                tag_most_common = []\n",
        "\n",
        "            song_rec = self.remove_seen(ply['songs'], song_most_common + self.results[ply['id']]['songs'], 'songs')\n",
        "            tag_rec = self.remove_seen(ply['tags'], tag_most_common + self.results[ply['id']]['tags'], 'tags')\n",
        "\n",
        "            assert sum([type(s) != str for s in song_rec]) == 0\n",
        "            assert len(set(song_rec)) == 100\n",
        "            assert len(set(tag_rec)) == 10\n",
        "\n",
        "            self.answers.append({\n",
        "                'id' : ply['id'],\n",
        "                'songs' : list(map(int,song_rec)),\n",
        "                'tags' : tag_rec\n",
        "            })\n",
        "\n",
        "        print('> use_all_popular :', use_popular)\n",
        "        print('> lack_info :', sum(lack_info.values()))\n",
        "        print('            :',lack_info)"
      ],
      "execution_count": 5,
      "outputs": []
    },
    {
      "cell_type": "markdown",
      "metadata": {
        "id": "r08kUzzBiuj7"
      },
      "source": [
        "## **Word2Vec 학습**\n",
        "word : song, tag 정보"
      ]
    },
    {
      "cell_type": "code",
      "metadata": {
        "colab": {
          "base_uri": "https://localhost:8080/"
        },
        "id": "ni2JyhIpBpCZ",
        "outputId": "c1358219-573f-4d9d-d5b1-dcada26dbab2"
      },
      "source": [
        "start = time.time()\n",
        "w2v_model = Word2Vec(sentences = model.corpus, min_count= 3 , size = 128 , window = 210, negative = 5 , sg = 1, hs = 0, workers = 1)\n",
        "print(f'> running time : {time.time()-start:.3f}')"
      ],
      "execution_count": 8,
      "outputs": [
        {
          "output_type": "stream",
          "text": [
            "> running time : 2803.283\n"
          ],
          "name": "stdout"
        }
      ]
    },
    {
      "cell_type": "code",
      "metadata": {
        "colab": {
          "base_uri": "https://localhost:8080/"
        },
        "id": "gLZIDX04Gor8",
        "outputId": "a3057e91-0256-4010-9b00-2312b83190d6"
      },
      "source": [
        "# 학습 결과 살짝 확인해보기\n",
        "\n",
        "print(\"힙합과 랩의 cosine 유사도는? :\",model.w2v_model.wv.similarity('랩','힙합'))"
      ],
      "execution_count": null,
      "outputs": [
        {
          "output_type": "stream",
          "text": [
            "힙합과 랩의 cosine 유사도는? : 0.9693299\n"
          ],
          "name": "stdout"
        }
      ]
    },
    {
      "cell_type": "code",
      "metadata": {
        "id": "UktUIs6X0EHF"
      },
      "source": [
        "# with open(os.path.join(dir,'w2v_128.pkl'), 'wb') as f:\n",
        "#     pickle.dump(w2v_model,f)"
      ],
      "execution_count": 10,
      "outputs": []
    },
    {
      "cell_type": "markdown",
      "metadata": {
        "id": "H6XTbRUti099"
      },
      "source": [
        "## **Playlist2Vec build하기**\n",
        "* w2v를 따로 학습시키지 않을거라면 `self.train_w2v()` 이용"
      ]
    },
    {
      "cell_type": "code",
      "metadata": {
        "colab": {
          "base_uri": "https://localhost:8080/"
        },
        "id": "EOxsMGKYFFXt",
        "outputId": "83432a19-82db-4c6a-f17b-c6062acce3d2"
      },
      "source": [
        "model = Playlist2Vec(train, val, base_res)"
      ],
      "execution_count": 12,
      "outputs": [
        {
          "output_type": "stream",
          "text": [
            "*** Build Vocab ***\n",
            "> Corpus : 112010\n",
            "> Songs + Tags = 521583 + 23421 = 545004\n",
            "> Playlist Id Type : <class 'str'> <class 'str'>\n"
          ],
          "name": "stdout"
        }
      ]
    },
    {
      "cell_type": "code",
      "metadata": {
        "id": "oVW7jJPW53em"
      },
      "source": [
        "# 학습후 저장해놓은 w2v 모델 등록\n",
        "\n",
        "with open(os.path.join(dir,'w2v_128.pkl'), 'rb') as f:\n",
        "    w2v_model = pickle.load(f)\n",
        "\n",
        "model.register_w2v(w2v_model)"
      ],
      "execution_count": 16,
      "outputs": []
    },
    {
      "cell_type": "code",
      "metadata": {
        "colab": {
          "base_uri": "https://localhost:8080/"
        },
        "id": "h1dV6J2hBNYY",
        "outputId": "019ec629-a11f-42a5-be14-52dac4bc5df4"
      },
      "source": [
        "model.build_p2v()"
      ],
      "execution_count": 17,
      "outputs": [
        {
          "output_type": "stream",
          "text": [
            "> running time : 13.401\n",
            "> Register (ply update) : 91930 / 96639\n",
            "> Only 4697 of validation set ( total : 23015 ) can not find similar playlist in train set.\n"
          ],
          "name": "stdout"
        }
      ]
    },
    {
      "cell_type": "code",
      "metadata": {
        "colab": {
          "base_uri": "https://localhost:8080/"
        },
        "id": "BjSzByRQ6Ldu",
        "outputId": "dc903f86-01d8-425d-eb9d-60438d3a2e1d"
      },
      "source": [
        "model.build_answers()"
      ],
      "execution_count": 18,
      "outputs": [
        {
          "output_type": "stream",
          "text": [
            "/usr/local/lib/python3.6/dist-packages/gensim/matutils.py:737: FutureWarning: Conversion of the second argument of issubdtype from `int` to `np.signedinteger` is deprecated. In future, it will be treated as `np.int64 == np.dtype(int).type`.\n",
            "  if np.issubdtype(vec.dtype, np.int):\n"
          ],
          "name": "stderr"
        },
        {
          "output_type": "stream",
          "text": [
            "> use_all_popular : 4697\n",
            "> lack_info : 64\n",
            "            : Counter({10: 34, 11: 30})\n"
          ],
          "name": "stdout"
        }
      ]
    },
    {
      "cell_type": "markdown",
      "metadata": {
        "id": "UAMmfdmuB6K9"
      },
      "source": [
        "# 🧐 **[실험] Hidden size와 acc**\n",
        "Hidden size가 커져도 acc에는 유의한 차이가 없다고 판단됨! 128로 하자."
      ]
    },
    {
      "cell_type": "code",
      "metadata": {
        "colab": {
          "base_uri": "https://localhost:8080/"
        },
        "id": "5XS8iHIKB-bS",
        "outputId": "ada7396b-73b5-4e1a-d481-31d7963cbf3f"
      },
      "source": [
        "model2 = Playlist2Vec(train, val, base_res)\n",
        "\n",
        "for size in [128,256,512]:\n",
        "\n",
        "    start = time.time()\n",
        "    w2v_model2 = Word2Vec(sentences = model2.corpus, min_count= 3 , size = size , window = 210, negative = 5 , sg = 1, hs = 0, workers = 1)\n",
        "    print(f'> running time : {time.time()-start:.3f}')\n",
        "    print(\"힙합과 랩의 cosine 유사도는? :\",w2v_model2.wv.similarity('랩','힙합'))\n",
        "\n",
        "    model2.register_w2v(w2v_model2)\n",
        "    model2.build_p2v()\n",
        "    model2.build_answers()\n",
        "\n",
        "    write_json(model2.answers , f\"results_tmp_{size}.json\")\n",
        "    evaluator.evaluate(dir + \"/val_answers.json\",f\"results_tmp_{size}.json\")"
      ],
      "execution_count": 263,
      "outputs": [
        {
          "output_type": "stream",
          "text": [
            "*** Build Vocab ***\n",
            "> Corpus : 112010\n",
            "> Songs + Tags = 521583 + 23421 = 545004\n",
            "> Playlist Id Type : <class 'str'> <class 'str'>\n",
            "> running time : 2943.168\n",
            "힙합과 랩의 cosine 유사도는? : 0.96212125\n",
            "> running time : 12.201\n",
            "> Register (ply update) : 91930 / 96639\n",
            "> Only 4697 of validation set ( total : 23015 ) can not find similar playlist in train set.\n"
          ],
          "name": "stdout"
        },
        {
          "output_type": "stream",
          "text": [
            "/usr/local/lib/python3.6/dist-packages/gensim/matutils.py:737: FutureWarning: Conversion of the second argument of issubdtype from `int` to `np.signedinteger` is deprecated. In future, it will be treated as `np.int64 == np.dtype(int).type`.\n",
            "  if np.issubdtype(vec.dtype, np.int):\n"
          ],
          "name": "stderr"
        },
        {
          "output_type": "stream",
          "text": [
            "> use_all_popular : 4697\n",
            "> lack_info : 64\n",
            "            : Counter({10: 35, 11: 29})\n",
            "Music nDCG: 0.143271\n",
            "Tag nDCG: 0.420335\n",
            "Score: 0.18483\n",
            "> running time : 3761.576\n",
            "힙합과 랩의 cosine 유사도는? : 0.87137836\n",
            "> running time : 13.108\n",
            "> Register (ply update) : 91930 / 96639\n",
            "> Only 4697 of validation set ( total : 23015 ) can not find similar playlist in train set.\n",
            "> use_all_popular : 4697\n",
            "> lack_info : 64\n",
            "            : Counter({10: 34, 11: 29, 20: 1})\n",
            "Music nDCG: 0.142963\n",
            "Tag nDCG: 0.421411\n",
            "Score: 0.18473\n",
            "> running time : 4965.761\n",
            "힙합과 랩의 cosine 유사도는? : 0.82157165\n",
            "> running time : 13.440\n",
            "> Register (ply update) : 91930 / 96639\n",
            "> Only 4697 of validation set ( total : 23015 ) can not find similar playlist in train set.\n",
            "> use_all_popular : 4697\n",
            "> lack_info : 64\n",
            "            : Counter({10: 32, 11: 28, 20: 4})\n",
            "Music nDCG: 0.142701\n",
            "Tag nDCG: 0.421699\n",
            "Score: 0.18455\n"
          ],
          "name": "stdout"
        }
      ]
    },
    {
      "cell_type": "markdown",
      "metadata": {
        "id": "O8MNVL_9iAdc"
      },
      "source": [
        "# 💯 **점수 확인**"
      ]
    },
    {
      "cell_type": "code",
      "metadata": {
        "id": "4sn3fkw98Tgq"
      },
      "source": [
        "evaluator = ArenaEvaluator()"
      ],
      "execution_count": 21,
      "outputs": []
    },
    {
      "cell_type": "code",
      "metadata": {
        "colab": {
          "base_uri": "https://localhost:8080/"
        },
        "id": "JW5ij45lBYEx",
        "outputId": "2481c630-c3f1-485d-cf10-ab2ea120e51a"
      },
      "source": [
        "write_json(model.answers , \"results_mine.json\")\n",
        "evaluator.evaluate(dir + \"/val_answers.json\", \"results_mine.json\")"
      ],
      "execution_count": null,
      "outputs": [
        {
          "output_type": "stream",
          "text": [
            "Music nDCG: 0.143337\n",
            "Tag nDCG: 0.419873\n",
            "Score: 0.184817\n"
          ],
          "name": "stdout"
        }
      ]
    }
  ]
}
