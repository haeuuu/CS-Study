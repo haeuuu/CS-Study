{
  "nbformat": 4,
  "nbformat_minor": 0,
  "metadata": {
    "accelerator": "GPU",
    "colab": {
      "name": "word2vec 제목을 넣으면 노래를 추천해드려용.ipynb",
      "provenance": [],
      "collapsed_sections": [],
      "machine_shape": "hm"
    },
    "kernelspec": {
      "display_name": "Python 3",
      "name": "python3"
    }
  },
  "cells": [
    {
      "cell_type": "markdown",
      "metadata": {
        "id": "fiXlnvhD12Dy"
      },
      "source": [
        "# ⛳ **Word2Vec을 이용한 추천 [Reference](https://arena.kakao.com/forum/topics/232)**\n",
        "\n",
        "```\n",
        "Music nDCG: 0.125168\n",
        "Tag nDCG: 0.405524\n",
        "Score: 0.167222\n",
        "```\n",
        "\n",
        "> 모든 item, id는 str으로 넣자.  \n",
        "\n",
        "1. corpus = songs + tags로 두고 word2vec을 학습시킨다. (item2vec)\n",
        "  * window size는 전체를 고려하도록 크게 잡는다.\n",
        "2. `playlist embedding = 속한 song, tag embedding의 합`으로 embedding시킬 수 있다. 모두 계산하여 `WordEmbeddingsKeyedVectors`에 add해준다."
      ]
    },
    {
      "cell_type": "markdown",
      "metadata": {
        "id": "CCoCjPlJGlpU"
      },
      "source": [
        "* 노래만 점수 낮은 이유 => int형 str형 섞여있었음 omg\n",
        "* worker를 여러개로 하면 돌릴때마다 다르다. (worker가 thread려나?)"
      ]
    },
    {
      "cell_type": "markdown",
      "metadata": {
        "id": "zett22Jj0p6c"
      },
      "source": [
        "# **Utils**"
      ]
    },
    {
      "cell_type": "code",
      "metadata": {
        "id": "lkKeh-in-Ogm"
      },
      "source": [
        "# PYTHONHASHSEED = 0"
      ],
      "execution_count": null,
      "outputs": []
    },
    {
      "cell_type": "code",
      "metadata": {
        "id": "llHoFECUDW6j"
      },
      "source": [
        "import warnings\n",
        "warnings.filterwarnings(action='ignore') # default : 다시 나오게"
      ],
      "execution_count": 293,
      "outputs": []
    },
    {
      "cell_type": "code",
      "metadata": {
        "id": "W-VVIn4n2nkZ"
      },
      "source": [
        "import os,io\n",
        "import json\n",
        "import time\n",
        "import re\n",
        "\n",
        "from collections import Counter\n",
        "from itertools import chain\n",
        "\n",
        "from tqdm import tqdm\n",
        "import numpy as np\n",
        "\n",
        "from gensim.models import Word2Vec\n",
        "from gensim.models.keyedvectors import WordEmbeddingsKeyedVectors\n",
        "\n",
        "dir = '/content/drive/MyDrive/Melon-PL-Continuation/11월 수정중   카카오 아레나 (멜론 추천)/1206 word2vec'"
      ],
      "execution_count": 1,
      "outputs": []
    },
    {
      "cell_type": "code",
      "metadata": {
        "id": "axHrWdNQ1zII"
      },
      "source": [
        "def write_json(data, fname):\n",
        "    def _conv(o):\n",
        "        if isinstance(o, (np.int64, np.int32)):\n",
        "            return int(o)\n",
        "        raise TypeError\n",
        "\n",
        "    with io.open(fname, \"w\", encoding=\"utf-8\") as f:\n",
        "        json_str = json.dumps(data, ensure_ascii=False, default=_conv)\n",
        "        f.write(json_str)\n",
        "\n",
        "def load_json(fname):\n",
        "    with open(fname, encoding=\"utf-8\") as f:\n",
        "        json_obj = json.load(f)\n",
        "\n",
        "    return json_obj"
      ],
      "execution_count": 2,
      "outputs": []
    },
    {
      "cell_type": "markdown",
      "metadata": {
        "id": "z5Qc_2HGzarw"
      },
      "source": [
        "# **Base Results 생성하기**\n",
        "baseline  결과를 저장해놓고 이용할 정보가 없는 경우 끌어와 쓴다."
      ]
    },
    {
      "cell_type": "code",
      "metadata": {
        "id": "hF40TPQ4zt45"
      },
      "source": [
        "class GenreExpPopular:\n",
        "\n",
        "    def remove_seen(self, seen, recommend):\n",
        "        res = []\n",
        "        for item in recommend:\n",
        "            if item not in seen:\n",
        "                res.append(item)\n",
        "                if len(res) == 100:\n",
        "                    break\n",
        "        return res\n",
        "\n",
        "    def _song_mp_per_genre(self, song_meta, global_mp):\n",
        "\n",
        "        # 1. train data를 기반으로, 장르별 노래 dict를 생성한다.\n",
        "        res = {} # {'댄스' : [0번째 노래, 40번째 노래, ...], '팝' : [1번째 노래, 2번째 노래 , ...],...}\n",
        "\n",
        "        for song_id, song_info in song_meta.items(): # id_to_song info인 dict에서 하나씩 꺼내서\n",
        "            for genre in song_info['song_gn_gnr_basket']: # 해당 노래의 대분류를 하나씩 꺼내서\n",
        "                res.setdefault(genre, []).append(song_id) # 기본값 주고 dict만들기\n",
        "\n",
        "        # 2. 장르별로 노래들의 count의 상위만 추출해서 dict를 수정한다\n",
        "        for genre, song_id_list in res.items(): # 대분류와 곡 list에서 하나씩 꺼내서\n",
        "            frequency = Counter({song_id: global_mp.get(int(song_id), 0) for song_id in song_id_list})  #\n",
        "            res[genre] = [k for k, v in frequency.most_common(200)]\n",
        "\n",
        "        return res\n",
        "\n",
        "    def most_popular(self,playlists, feature, topk_count):\n",
        "        c = Counter()\n",
        "\n",
        "        for plylist in playlists:\n",
        "            c.update(plylist[feature])\n",
        "\n",
        "        topk = c.most_common(topk_count)\n",
        "        return c, [k for k, v in topk]\n",
        "\n",
        "    def _generate_answers(self, song_meta_json, train, questions):\n",
        "        song_meta = {int(song[\"id\"]): song for song in song_meta_json} # id_to_노래정보 dictionary\n",
        "        song_mp_counter, song_mp = self.most_popular(train, \"songs\", 200) # 가장 많이 등장한 노래 일단 200개 추출\n",
        "        tag_mp_counter, tag_mp = self.most_popular(train, \"tags\", 100) # 가장 많이 등장한 태그 일단 100개 추출\n",
        "        song_mp_per_genre = self._song_mp_per_genre(song_meta, song_mp_counter)\n",
        "\n",
        "        answers = []\n",
        "        for q in tqdm(questions):\n",
        "\n",
        "            # step 1 : 가장 많이 등장한 장르 상위 k개 + softmax\n",
        "            genre_counter = Counter()\n",
        "\n",
        "            for song_id in q[\"songs\"]: # 현재 query의 등장 장르 수 계산\n",
        "                for genre in song_meta[song_id][\"song_gn_gnr_basket\"]:\n",
        "                    genre_counter.update({genre: 1})\n",
        "\n",
        "            most_popular_topk = genre_counter.most_common(10) # [ (k,v), (k,v) ,... ]\n",
        "\n",
        "            if len(most_popular_topk) != 0:\n",
        "                genres,scores = zip(*most_popular_topk)\n",
        "                exp_scores = np.exp(scores)\n",
        "                scores = exp_scores/exp_scores.sum()*100\n",
        "\n",
        "                query_songs,cur_songs = q['songs'],[]\n",
        "\n",
        "                for genre, score in zip(genres,scores):\n",
        "                    recommend = self.remove_seen(query_songs, song_mp_per_genre[genre])[:int(score)+1]\n",
        "                    cur_songs.extend(recommend)\n",
        "                    query_songs.extend(recommend)\n",
        "\n",
        "                cur_songs = cur_songs[:100]\n",
        "\n",
        "            else:\n",
        "                cur_songs = self.remove_seen(q[\"songs\"], song_mp)[:100]\n",
        "\n",
        "            answers.append({\n",
        "                \"id\": q[\"id\"],\n",
        "                \"songs\": cur_songs,\n",
        "                \"tags\": self.remove_seen(q[\"tags\"], tag_mp)[:10]\n",
        "            })\n",
        "\n",
        "        return answers\n",
        "\n",
        "    def run(self,result_fname, test = True):\n",
        "\n",
        "        if test:\n",
        "            train_fname = os.path.join(dir, 'train.json')\n",
        "            question_fname = os.path.join(dir, 'val_questions.json')\n",
        "        else:\n",
        "            pass\n",
        "\n",
        "        song_meta_fname ='/content/drive/My Drive/Melon-PL-Continuation/0802/train_split/song_meta.json'\n",
        "\n",
        "        print(\"Loading song meta...\")\n",
        "        song_meta_json = load_json(song_meta_fname)\n",
        "\n",
        "        print(\"Loading train file...\")\n",
        "        train_data = load_json(train_fname)\n",
        "\n",
        "        print(\"Loading question file...\")\n",
        "        questions = load_json(question_fname)\n",
        "\n",
        "        print(\"Writing answers...\")\n",
        "        self.answers = self._generate_answers(song_meta_json, train_data, questions)\n",
        "        write_json(self.answers, os.path.join(dir,result_fname))\n",
        "        print(\"DONE\")"
      ],
      "execution_count": 3,
      "outputs": []
    },
    {
      "cell_type": "code",
      "metadata": {
        "colab": {
          "base_uri": "https://localhost:8080/"
        },
        "id": "5QbyFarq0FHT",
        "outputId": "f9f38e13-d9a2-40e8-d354-1226178004a0"
      },
      "source": [
        "basemodel = GenreExpPopular()\n",
        "basemodel.run('base_results_gep.json', test = True)"
      ],
      "execution_count": null,
      "outputs": [
        {
          "output_type": "stream",
          "text": [
            "Loading song meta...\n",
            "Loading train file...\n",
            "Loading question file...\n",
            "Writing answers...\n"
          ],
          "name": "stdout"
        },
        {
          "output_type": "stream",
          "text": [
            "100%|██████████| 23015/23015 [00:18<00:00, 1231.14it/s]\n"
          ],
          "name": "stderr"
        },
        {
          "output_type": "stream",
          "text": [
            "DONE\n"
          ],
          "name": "stdout"
        }
      ]
    },
    {
      "cell_type": "code",
      "metadata": {
        "colab": {
          "base_uri": "https://localhost:8080/"
        },
        "id": "UbatfJYYV4nI",
        "outputId": "4e75da36-70bf-4723-96d6-af40a26a6233"
      },
      "source": [
        "evaluator.evaluate(dir + \"/val_answers.json\",dir + \"/base_results_gep.json\")"
      ],
      "execution_count": null,
      "outputs": [
        {
          "output_type": "stream",
          "text": [
            "Music nDCG: 0.0417793\n",
            "Tag nDCG: 0.162134\n",
            "Score: 0.0598324\n"
          ],
          "name": "stdout"
        }
      ]
    },
    {
      "cell_type": "markdown",
      "metadata": {
        "id": "8MLPX0fO4YWU"
      },
      "source": [
        "# **Train, Validation data 준비하기**"
      ]
    },
    {
      "cell_type": "code",
      "metadata": {
        "id": "YuDh0Abg4e3F"
      },
      "source": [
        "def get_data(test = True):\n",
        "    if test:\n",
        "        train_path = os.path.join(dir, 'train.json')\n",
        "        val_path = os.path.join(dir, 'val_questions.json')\n",
        "    else:\n",
        "        pass\n",
        "\n",
        "    base_path = os.path.join(dir, 'base_results_gep.json')\n",
        "\n",
        "    train = load_json(train_path)\n",
        "    val = load_json(val_path)\n",
        "    base_res = load_json(base_path)\n",
        "\n",
        "    return train, val, base_res"
      ],
      "execution_count": 8,
      "outputs": []
    },
    {
      "cell_type": "code",
      "metadata": {
        "id": "dNJ3k8Ow4jZq"
      },
      "source": [
        "train, val, base_res = get_data(test = True)"
      ],
      "execution_count": 9,
      "outputs": []
    },
    {
      "cell_type": "markdown",
      "metadata": {
        "id": "vc3ejKIwh5Ko"
      },
      "source": [
        "# 🎶 **Playlist2Vec 정의**\n",
        "* w2v은 따로 학습시켜놓는다.\n",
        "* 다음 절차로 인해 popular로만 전체를 채우게 된다.\n",
        "  * train에 아예 없거나 min_counts에 의해 몇개 노래/태그가 제거되고\n",
        "  * val ply를 등록할 때, 원래 query song이 없거나 걸러진 노래/태그만 존재하여 등록이 되지 않고\n",
        "  * sim ply를 찾지 못한다."
      ]
    },
    {
      "cell_type": "code",
      "metadata": {
        "id": "m6uuJ0ghFsoe"
      },
      "source": [
        "class Playlist2Vec:\n",
        "    def __init__(self,train, val, results):\n",
        "        self.train = train\n",
        "        self.val = val\n",
        "        self.results = {}\n",
        "        for ply in results:\n",
        "            self.results[ply['id']] = {'songs':list(map(str,ply['songs'])),'tags':ply['tags']}\n",
        "        self.data = self.train + self.val\n",
        "\n",
        "        print('*** Build Vocab ***')\n",
        "        self.build_vocab()\n",
        "\n",
        "    def build_vocab(self):\n",
        "        self.id_to_songs = {}\n",
        "        self.id_to_tags = {}\n",
        "        self.corpus = []\n",
        "\n",
        "        for ply in self.data:\n",
        "            self.id_to_songs[str(ply['id'])] = [*map(str,ply['songs'])]\n",
        "            self.id_to_tags[str(ply['id'])] = [*map(str,ply['tags'])]\n",
        "\n",
        "            items = self.id_to_songs[str(ply['id'])] + self.id_to_tags[str(ply['id'])]\n",
        "            if len(items) > 1:\n",
        "                self.corpus.append(items)\n",
        "\n",
        "        self.songs = set(chain.from_iterable(self.id_to_songs.values())) \n",
        "        self.tags = set(chain.from_iterable(self.id_to_tags.values())) \n",
        "\n",
        "        print(\"> Corpus :\", len(self.corpus))\n",
        "        print(f'> Songs + Tags = {len(self.songs)} + {len(self.tags)} = {len(self.songs) + len(self.tags)}')\n",
        "        print(\"> Playlist Id Type :\", type(list(self.id_to_songs.keys())[0]),type(list(self.id_to_tags.keys())[0]))\n",
        "\n",
        "    def register_w2v(self, w2v_model):\n",
        "        self.w2v_model = w2v_model\n",
        "        self.p2v_model = WordEmbeddingsKeyedVectors(self.w2v_model.trainables.layer1_size)\n",
        "\n",
        "    def train_w2v(self, min_count = 3, size = 128, window = 210, negative = 5, sg = 1, hs = 0, workers = 1):\n",
        "        # workers = 1 ; for consistency\n",
        "        self.w2v_model = Word2Vec(sentences = self.corpus, min_count= min_count , size = size , window = window, negative = negative , sg = sg, hs = hs, workers = workers)\n",
        "        self.p2v_model = WordEmbeddingsKeyedVectors(self.w2v_model.trainables.layer1_size)\n",
        "\n",
        "    def build_p2v(self):\n",
        "        start = time.time()\n",
        "        pids = []\n",
        "        playlist_embedding = []\n",
        "\n",
        "        # for pid in tqdm(self.id_to_songs.keys()):\n",
        "        for pid in self.id_to_songs.keys():\n",
        "            if len(self.id_to_songs[pid]) < 1:\n",
        "                continue\n",
        "\n",
        "            ply_embedding = 0\n",
        "\n",
        "            for item in self.id_to_songs[pid] + self.id_to_tags[pid]:\n",
        "                if self.w2v_model.wv.vocab.get(str(item)) is None:\n",
        "                    # train data에 없었거나, w2v 학습 과정에서 min_counts에 걸러진 경우\n",
        "                    continue\n",
        "\n",
        "                ply_embedding += self.w2v_model.wv.get_vector(str(item))\n",
        "\n",
        "            if type(ply_embedding) != int: # 한 번이라도 update 되었다면\n",
        "                pids.append(str(pid)) # ! string !\n",
        "                playlist_embedding.append(ply_embedding)\n",
        "\n",
        "        self.p2v_model.add(pids,playlist_embedding)\n",
        "\n",
        "        print(f'> running time : {time.time()-start:.3f}')\n",
        "        print(f'> Register (ply update) : {len(pids)} / {len(self.id_to_songs)}')\n",
        "        val_ids = set([str(p[\"id\"]) for p in self.val])\n",
        "        print(f'> Only {len( val_ids - set(pids) )} of validation set ( total : {len(val_ids)} ) can not find similar playlist in train set.')\n",
        "\n",
        "    def remove_seen(self,seen, recommend, attr):\n",
        "        res = []\n",
        "        limit = [100,10][attr == 'tags']\n",
        "\n",
        "        for item in recommend:\n",
        "            if item not in seen and item not in res:\n",
        "                res.append(item)\n",
        "                if len(res) == limit:\n",
        "                    break\n",
        "        return res\n",
        "\n",
        "    def build_answers(self):\n",
        "        self.answers = []\n",
        "        use_popular = 0\n",
        "        lack_info = Counter()\n",
        "\n",
        "        # for ply in tqdm(self.val):\n",
        "        for ply in self.val:\n",
        "            if self.p2v_model.vocab.get(str(ply['id'])) is not None:\n",
        "\n",
        "                ply_candidates = self.p2v_model.most_similar(str(ply['id']), topn = 200)\n",
        "                song_candidates = []\n",
        "                tag_candidates = []\n",
        "\n",
        "                for cid , _ in ply_candidates:\n",
        "                    song_candidates.extend(self.id_to_songs[str(cid)])\n",
        "                    tag_candidates.extend(self.id_to_tags[str(cid)])\n",
        "\n",
        "                song_most_common = [song for song,_ in Counter(song_candidates).most_common()]\n",
        "                tag_most_common = [tag for tag,_ in Counter(tag_candidates).most_common()]\n",
        "\n",
        "                if len(song_most_common) < 100:\n",
        "                    lack_info[len(song_most_common)] += 1\n",
        "            else:\n",
        "                use_popular += 1\n",
        "                song_most_common = []\n",
        "                tag_most_common = []\n",
        "\n",
        "            song_rec = self.remove_seen(ply['songs'], song_most_common + self.results[ply['id']]['songs'], 'songs')\n",
        "            tag_rec = self.remove_seen(ply['tags'], tag_most_common + self.results[ply['id']]['tags'], 'tags')\n",
        "\n",
        "            assert sum([type(s) != str for s in song_rec]) == 0\n",
        "            assert len(set(song_rec)) == 100\n",
        "            assert len(set(tag_rec)) == 10\n",
        "\n",
        "            self.answers.append({\n",
        "                'id' : ply['id'],\n",
        "                'songs' : list(map(int,song_rec)),\n",
        "                'tags' : tag_rec\n",
        "            })\n",
        "\n",
        "        print('> use_all_popular :', use_popular)\n",
        "        print('> lack_info :', sum(lack_info.values()))\n",
        "        print('            :',lack_info)"
      ],
      "execution_count": 10,
      "outputs": []
    },
    {
      "cell_type": "code",
      "metadata": {
        "colab": {
          "base_uri": "https://localhost:8080/"
        },
        "id": "EOxsMGKYFFXt",
        "outputId": "6ee3ae7d-da2f-4498-adf7-40f4c97d18c9"
      },
      "source": [
        "model = Playlist2Vec(train, val, base_res)"
      ],
      "execution_count": 11,
      "outputs": [
        {
          "output_type": "stream",
          "text": [
            "*** Build Vocab ***\n",
            "> Corpus : 112010\n",
            "> Songs + Tags = 521583 + 23421 = 545004\n",
            "> Playlist Id Type : <class 'str'> <class 'str'>\n"
          ],
          "name": "stdout"
        }
      ]
    },
    {
      "cell_type": "code",
      "metadata": {
        "id": "oVW7jJPW53em"
      },
      "source": [
        "# model.register_w2v(w2v_model)\n",
        "model.train_w2v(workers = 10)"
      ],
      "execution_count": 12,
      "outputs": []
    },
    {
      "cell_type": "markdown",
      "metadata": {
        "id": "wrdObmbrSc60"
      },
      "source": [
        "## **songtag2vec 성능 체크**"
      ]
    },
    {
      "cell_type": "code",
      "metadata": {
        "colab": {
          "base_uri": "https://localhost:8080/"
        },
        "id": "gLZIDX04Gor8",
        "outputId": "31940582-26f1-4d5d-b775-ce49d16e6b04"
      },
      "source": [
        "# 학습 결과 살짝 확인해보기\n",
        "\n",
        "v1 = model.w2v_model.wv.get_vector('힙합')\n",
        "v2 = model.w2v_model.wv.get_vector('랩')\n",
        "print(\"힙합과 랩의 cosine 유사도는? :\",v1.dot(v2)/np.linalg.norm(v1)/np.linalg.norm(v2))"
      ],
      "execution_count": 13,
      "outputs": [
        {
          "output_type": "stream",
          "text": [
            "힙합과 랩의 cosine 유사도는? : 0.96159214\n"
          ],
          "name": "stdout"
        }
      ]
    },
    {
      "cell_type": "code",
      "metadata": {
        "colab": {
          "base_uri": "https://localhost:8080/"
        },
        "id": "0Kcc-_y8J-3R",
        "outputId": "5422ecbd-e13a-4f7c-de0a-439b3523dbd4"
      },
      "source": [
        "v1 = model.w2v_model.wv.get_vector('525514')\n",
        "v2 = model.w2v_model.wv.get_vector('129701')\n",
        "print(\"ply 0에 들어있던 두 노래의 유사도는? :\",v1.dot(v2)/np.linalg.norm(v1)/np.linalg.norm(v2))"
      ],
      "execution_count": 14,
      "outputs": [
        {
          "output_type": "stream",
          "text": [
            "ply 0에 들어있던 두 노래의 유사도는? : 0.75479937\n"
          ],
          "name": "stdout"
        }
      ]
    },
    {
      "cell_type": "code",
      "metadata": {
        "colab": {
          "base_uri": "https://localhost:8080/"
        },
        "id": "h1dV6J2hBNYY",
        "outputId": "39f8ab11-dec2-4c8f-ced1-83edec5c72a1"
      },
      "source": [
        "model.build_p2v()"
      ],
      "execution_count": 15,
      "outputs": [
        {
          "output_type": "stream",
          "text": [
            "> running time : 11.875\n",
            "> Register (ply update) : 91930 / 96639\n",
            "> Only 4697 of validation set ( total : 23015 ) can not find similar playlist in train set.\n"
          ],
          "name": "stdout"
        }
      ]
    },
    {
      "cell_type": "code",
      "metadata": {
        "colab": {
          "base_uri": "https://localhost:8080/"
        },
        "id": "BjSzByRQ6Ldu",
        "outputId": "fd50b6c5-b190-44fa-8f5c-d94d99e2c404"
      },
      "source": [
        "model.build_answers()"
      ],
      "execution_count": 16,
      "outputs": [
        {
          "output_type": "stream",
          "text": [
            "/usr/local/lib/python3.6/dist-packages/gensim/matutils.py:737: FutureWarning: Conversion of the second argument of issubdtype from `int` to `np.signedinteger` is deprecated. In future, it will be treated as `np.int64 == np.dtype(int).type`.\n",
            "  if np.issubdtype(vec.dtype, np.int):\n"
          ],
          "name": "stderr"
        },
        {
          "output_type": "stream",
          "text": [
            "> use_all_popular : 4697\n",
            "> lack_info : 64\n",
            "            : Counter({10: 35, 11: 29})\n"
          ],
          "name": "stdout"
        }
      ]
    },
    {
      "cell_type": "code",
      "metadata": {
        "colab": {
          "base_uri": "https://localhost:8080/"
        },
        "id": "JW5ij45lBYEx",
        "outputId": "d28be79d-9e61-4b1f-b0ee-649ca98b7971"
      },
      "source": [
        "write_json(model.answers , \"results_mine.json\")\n",
        "evaluator.evaluate(dir + \"/val_answers.json\",\"results_mine.json\")"
      ],
      "execution_count": 20,
      "outputs": [
        {
          "output_type": "stream",
          "text": [
            "Music nDCG: 0.143441\n",
            "Tag nDCG: 0.419879\n",
            "Score: 0.184907\n"
          ],
          "name": "stdout"
        }
      ]
    },
    {
      "cell_type": "markdown",
      "metadata": {
        "id": "xarMLLxwbxjd"
      },
      "source": [
        "# **method 살펴보기**\n",
        "### 1. model.w2v_model.wv.**similar_by_word**('랩')\n",
        "```python\n",
        "[('힙합', 0.9615921378135681),\n",
        " ('HipHop', 0.7985354661941528),\n",
        " ('Rap', 0.7893173694610596),\n",
        " ('국내힙합', 0.7886797189712524)]\n",
        "```\n",
        "### 2. **most_similar** : sum(positive) - sum(negative)\n",
        "p = ['아빠','여성'] , n = ['남성'] => 결과 :['엄마']\n",
        "```python\n",
        "[('우울', 0.8385971188545227),\n",
        " ('외로움', 0.8382763862609863),\n",
        " ('쓸쓸함', 0.8005260229110718),\n",
        " ('외로운', 0.8002836108207703)]\n",
        "```\n",
        "\n",
        "### 3. model.w2v_model.wv.**similarity**('랩','힙합')\n",
        "```python\n",
        "0.96xxx\n",
        "```\n",
        "\n",
        "### 4. model.w2v_model.wv.**similar_by_vector**\n",
        "```python\n",
        "v1 = model.w2v_model.wv.get_vector('랩')\n",
        "v2 = model.w2v_model.wv.get_vector('힙합')\n",
        "\n",
        "model.w2v_model.wv.similar_by_vector(v1+v2)\n",
        "```\n",
        "```python\n",
        "[('랩', 0.9919853806495667),\n",
        " ('힙합', 0.988567054271698),\n",
        " ('국내힙합', 0.8164964318275452),\n",
        " ('HipHop', 0.8128796815872192),\n",
        " ('Rap', 0.800581157207489),\n",
        " ('국힙', 0.7753417491912842)]\n",
        "```"
      ]
    },
    {
      "cell_type": "code",
      "metadata": {
        "colab": {
          "base_uri": "https://localhost:8080/"
        },
        "id": "NNdQLu7gb0eL",
        "outputId": "3f61ebf5-b98d-4c7e-e89b-bf1e568d7242"
      },
      "source": [
        "tags = [k for k in model.w2v_model.wv.vocab.keys() if k.isalpha()]\n",
        "print(len(tags))\n",
        "print(tags[:30])"
      ],
      "execution_count": 52,
      "outputs": [
        {
          "output_type": "stream",
          "text": [
            "6746\n",
            "['불쾌지수', '친구들과', '눈꽃', '추천합니다', '사랑스러운노래', '맥주펍', '피쳐링미침', 'CF음악', '월요병저리가', 'NAS', '록스피릿', '컬트무비', '힐림', '모아나', '나윤권', 'SHINEE', '두근거리는', '찰떡궁합', '부스터', '뮤지컬음악', '카페플레이리스트', 'ROMANTIC', '반려묘', '찰리XCX', '여름노래모음', '써머', '광주', '댄스힙합', '집에서즐기는', '슈크박스']\n"
          ],
          "name": "stdout"
        }
      ]
    },
    {
      "cell_type": "code",
      "metadata": {
        "colab": {
          "base_uri": "https://localhost:8080/"
        },
        "id": "lGQPmbwrhlje",
        "outputId": "df044120-ea93-40b4-c5e6-73f8315b2556"
      },
      "source": [
        "model.w2v_model.wv.most_similar(['쓸쓸'])"
      ],
      "execution_count": 59,
      "outputs": [
        {
          "output_type": "stream",
          "text": [
            "/usr/local/lib/python3.6/dist-packages/gensim/matutils.py:737: FutureWarning: Conversion of the second argument of issubdtype from `int` to `np.signedinteger` is deprecated. In future, it will be treated as `np.int64 == np.dtype(int).type`.\n",
            "  if np.issubdtype(vec.dtype, np.int):\n"
          ],
          "name": "stderr"
        },
        {
          "output_type": "execute_result",
          "data": {
            "text/plain": [
              "[('우울', 0.8182780742645264),\n",
              " ('외로움', 0.7527623772621155),\n",
              " ('눈물', 0.7503553032875061),\n",
              " ('헤어짐', 0.7471939921379089),\n",
              " ('쓸쓸한', 0.7417927384376526),\n",
              " ('쓸쓸함', 0.7417812347412109),\n",
              " ('센치', 0.7397032976150513),\n",
              " ('혼자', 0.7139500975608826),\n",
              " ('차분', 0.7002543210983276),\n",
              " ('그리움', 0.698684811592102)]"
            ]
          },
          "metadata": {
            "tags": []
          },
          "execution_count": 59
        }
      ]
    },
    {
      "cell_type": "code",
      "metadata": {
        "colab": {
          "base_uri": "https://localhost:8080/"
        },
        "id": "KcCw00MIhcit",
        "outputId": "94abcc84-825a-4312-a065-c539052d7cee"
      },
      "source": [
        "model.w2v_model.wv.most_similar(['쓸쓸','쓸쓸한'])"
      ],
      "execution_count": 57,
      "outputs": [
        {
          "output_type": "stream",
          "text": [
            "/usr/local/lib/python3.6/dist-packages/gensim/matutils.py:737: FutureWarning: Conversion of the second argument of issubdtype from `int` to `np.signedinteger` is deprecated. In future, it will be treated as `np.int64 == np.dtype(int).type`.\n",
            "  if np.issubdtype(vec.dtype, np.int):\n"
          ],
          "name": "stderr"
        },
        {
          "output_type": "execute_result",
          "data": {
            "text/plain": [
              "[('우울', 0.8385971188545227),\n",
              " ('외로움', 0.8382763862609863),\n",
              " ('쓸쓸함', 0.8005260229110718),\n",
              " ('외로운', 0.8002836108207703),\n",
              " ('헤어짐', 0.7965164184570312),\n",
              " ('혼자', 0.7933205366134644),\n",
              " ('눈물', 0.7925050258636475),\n",
              " ('센치', 0.7924936413764954),\n",
              " ('그리움', 0.7756912708282471),\n",
              " ('슬픈', 0.7600284218788147)]"
            ]
          },
          "metadata": {
            "tags": []
          },
          "execution_count": 57
        }
      ]
    },
    {
      "cell_type": "code",
      "metadata": {
        "colab": {
          "base_uri": "https://localhost:8080/"
        },
        "id": "K131V7I5hi9o",
        "outputId": "f8ca6102-68e7-4ed7-dba5-44d8cadcb525"
      },
      "source": [
        "model.w2v_model.wv.most_similar(['쓸쓸','쓸쓸한','쓸쓸함'])"
      ],
      "execution_count": 58,
      "outputs": [
        {
          "output_type": "stream",
          "text": [
            "/usr/local/lib/python3.6/dist-packages/gensim/matutils.py:737: FutureWarning: Conversion of the second argument of issubdtype from `int` to `np.signedinteger` is deprecated. In future, it will be treated as `np.int64 == np.dtype(int).type`.\n",
            "  if np.issubdtype(vec.dtype, np.int):\n"
          ],
          "name": "stderr"
        },
        {
          "output_type": "execute_result",
          "data": {
            "text/plain": [
              "[('외로움', 0.8746573328971863),\n",
              " ('우울', 0.8421176671981812),\n",
              " ('헤어짐', 0.8126764297485352),\n",
              " ('눈물', 0.8091583251953125),\n",
              " ('그리움', 0.8079662322998047),\n",
              " ('센치', 0.7993037104606628),\n",
              " ('외로운', 0.7963045239448547),\n",
              " ('혼자', 0.7916884422302246),\n",
              " ('우울한', 0.7630760669708252),\n",
              " ('슬픈', 0.7467443943023682)]"
            ]
          },
          "metadata": {
            "tags": []
          },
          "execution_count": 58
        }
      ]
    },
    {
      "cell_type": "code",
      "metadata": {
        "colab": {
          "base_uri": "https://localhost:8080/"
        },
        "id": "vII0jtXIcHu_",
        "outputId": "a79e9196-45e5-4ca4-c27d-0adb69849de3"
      },
      "source": [
        "model.w2v_model.wv.most_similar(['비오는날','외로움'])"
      ],
      "execution_count": 43,
      "outputs": [
        {
          "output_type": "stream",
          "text": [
            "/usr/local/lib/python3.6/dist-packages/gensim/matutils.py:737: FutureWarning: Conversion of the second argument of issubdtype from `int` to `np.signedinteger` is deprecated. In future, it will be treated as `np.int64 == np.dtype(int).type`.\n",
            "  if np.issubdtype(vec.dtype, np.int):\n"
          ],
          "name": "stderr"
        },
        {
          "output_type": "execute_result",
          "data": {
            "text/plain": [
              "[('센치', 0.8679744005203247),\n",
              " ('비', 0.8412796258926392),\n",
              " ('우울', 0.8176730871200562),\n",
              " ('쓸쓸한', 0.7884265184402466),\n",
              " ('쓸쓸함', 0.7786596417427063),\n",
              " ('혼자', 0.7754300832748413),\n",
              " ('흐린날', 0.7744088172912598),\n",
              " ('쓸쓸', 0.7739285230636597),\n",
              " ('눈물', 0.759524941444397),\n",
              " ('헤어짐', 0.7594777345657349)]"
            ]
          },
          "metadata": {
            "tags": []
          },
          "execution_count": 43
        }
      ]
    },
    {
      "cell_type": "code",
      "metadata": {
        "colab": {
          "base_uri": "https://localhost:8080/"
        },
        "id": "jkKOsIMyeIXc",
        "outputId": "ea8db463-4048-4757-d619-cee0eea62fa9"
      },
      "source": [
        "model.w2v_model.wv.most_similar(['비'])"
      ],
      "execution_count": 45,
      "outputs": [
        {
          "output_type": "stream",
          "text": [
            "/usr/local/lib/python3.6/dist-packages/gensim/matutils.py:737: FutureWarning: Conversion of the second argument of issubdtype from `int` to `np.signedinteger` is deprecated. In future, it will be treated as `np.int64 == np.dtype(int).type`.\n",
            "  if np.issubdtype(vec.dtype, np.int):\n"
          ],
          "name": "stderr"
        },
        {
          "output_type": "execute_result",
          "data": {
            "text/plain": [
              "[('비오는날', 0.8555936813354492),\n",
              " ('장마', 0.8403699398040771),\n",
              " ('비올때', 0.8138465881347656),\n",
              " ('rain', 0.8061612844467163),\n",
              " ('우산', 0.7818849086761475),\n",
              " ('센치', 0.7765259742736816),\n",
              " ('흐린날', 0.768670916557312),\n",
              " ('빗소리', 0.7590976357460022),\n",
              " ('rainyday', 0.7486249208450317),\n",
              " ('비오는', 0.7432389259338379)]"
            ]
          },
          "metadata": {
            "tags": []
          },
          "execution_count": 45
        }
      ]
    },
    {
      "cell_type": "markdown",
      "metadata": {
        "id": "MMSiG-_DoR3m"
      },
      "source": [
        "### **뽑은 태그를 어떻게 넣을 것인가?**\n",
        "1. 뽑은 그대로 모두 넣자. => `['비', '비오는', '비오는날', '듣고', '듣고싶은', '쓸쓸', '쓸쓸한', '발라드']`\n",
        "\n",
        "2. 최대로 매칭시켜 넣자. `['비오는날','듣고싶은','쓸쓸한', '발라드']`"
      ]
    },
    {
      "cell_type": "code",
      "metadata": {
        "colab": {
          "base_uri": "https://localhost:8080/"
        },
        "id": "IWN_C2HIe_65",
        "outputId": "ff17c30e-1b77-440e-af8a-f788a53f7b4b"
      },
      "source": [
        "model.w2v_model.wv.most_similar(extracted)"
      ],
      "execution_count": null,
      "outputs": [
        {
          "output_type": "stream",
          "text": [
            "/usr/local/lib/python3.6/dist-packages/gensim/matutils.py:737: FutureWarning: Conversion of the second argument of issubdtype from `int` to `np.signedinteger` is deprecated. In future, it will be treated as `np.int64 == np.dtype(int).type`.\n",
            "  if np.issubdtype(vec.dtype, np.int):\n"
          ],
          "name": "stderr"
        },
        {
          "output_type": "execute_result",
          "data": {
            "text/plain": [
              "[('비내리는날음악', 0.8404432535171509),\n",
              " ('비내리는날노래', 0.8255271315574646),\n",
              " ('비오는날음악', 0.8196240067481995),\n",
              " ('비가오는날', 0.8098689317703247),\n",
              " ('비_오는_날', 0.8053878545761108),\n",
              " ('비내릴때', 0.801423966884613),\n",
              " ('비도오고그래서', 0.7990456223487854),\n",
              " ('비올때', 0.798870325088501),\n",
              " ('rain', 0.7935051321983337),\n",
              " ('rainyday', 0.7922885417938232)]"
            ]
          },
          "metadata": {
            "tags": []
          },
          "execution_count": 80
        }
      ]
    },
    {
      "cell_type": "code",
      "metadata": {
        "colab": {
          "base_uri": "https://localhost:8080/"
        },
        "id": "xGlQJbtNn_Nu",
        "outputId": "c1573363-6909-4aca-d87c-9cded350d29b"
      },
      "source": [
        "model.w2v_model.wv.most_similar(['비', '비오는', '비오는날', '듣고', '쓸쓸', '쓸쓸한', '발라드'])"
      ],
      "execution_count": null,
      "outputs": [
        {
          "output_type": "stream",
          "text": [
            "/usr/local/lib/python3.6/dist-packages/gensim/matutils.py:737: FutureWarning: Conversion of the second argument of issubdtype from `int` to `np.signedinteger` is deprecated. In future, it will be treated as `np.int64 == np.dtype(int).type`.\n",
            "  if np.issubdtype(vec.dtype, np.int):\n"
          ],
          "name": "stderr"
        },
        {
          "output_type": "execute_result",
          "data": {
            "text/plain": [
              "[('센치', 0.8220512866973877),\n",
              " ('우울', 0.8118997812271118),\n",
              " ('비내리는날음악', 0.8067814707756042),\n",
              " ('비올때', 0.7983118295669556),\n",
              " ('비내리는날노래', 0.7932559251785278),\n",
              " ('비내릴때', 0.7845121026039124),\n",
              " ('눈물', 0.7821574211120605),\n",
              " ('rainyday', 0.7817319631576538),\n",
              " ('헤어짐', 0.7795099020004272),\n",
              " ('센치함', 0.7786605358123779)]"
            ]
          },
          "metadata": {
            "tags": []
          },
          "execution_count": 84
        }
      ]
    },
    {
      "cell_type": "code",
      "metadata": {
        "colab": {
          "base_uri": "https://localhost:8080/"
        },
        "id": "8Yh9Jw9uoPdG",
        "outputId": "a996ee69-3dc2-493c-b7ac-62c78aee98e5"
      },
      "source": [
        "model.w2v_model.wv.most_similar(['비', '비오는', '비오는날', '쓸쓸', '쓸쓸한', '발라드'])"
      ],
      "execution_count": null,
      "outputs": [
        {
          "output_type": "stream",
          "text": [
            "/usr/local/lib/python3.6/dist-packages/gensim/matutils.py:737: FutureWarning: Conversion of the second argument of issubdtype from `int` to `np.signedinteger` is deprecated. In future, it will be treated as `np.int64 == np.dtype(int).type`.\n",
            "  if np.issubdtype(vec.dtype, np.int):\n"
          ],
          "name": "stderr"
        },
        {
          "output_type": "execute_result",
          "data": {
            "text/plain": [
              "[('센치', 0.816281795501709),\n",
              " ('우울', 0.8121845722198486),\n",
              " ('비내리는날음악', 0.7984887361526489),\n",
              " ('눈물', 0.7947648763656616),\n",
              " ('헤어짐', 0.7944736480712891),\n",
              " ('비올때', 0.790336549282074),\n",
              " ('rain', 0.7844325304031372),\n",
              " ('비내리는날노래', 0.7784298658370972),\n",
              " ('비내릴때', 0.7754480838775635),\n",
              " ('흐린날', 0.7752397656440735)]"
            ]
          },
          "metadata": {
            "tags": []
          },
          "execution_count": 85
        }
      ]
    },
    {
      "cell_type": "code",
      "metadata": {
        "colab": {
          "base_uri": "https://localhost:8080/"
        },
        "id": "0ob3llegoYll",
        "outputId": "f8a971c5-60f6-4a14-a255-77385d8b116b"
      },
      "source": [
        "model.w2v_model.wv.most_similar(['듣고싶은' ,'쓸쓸', '쓸쓸한', '발라드'])"
      ],
      "execution_count": null,
      "outputs": [
        {
          "output_type": "stream",
          "text": [
            "/usr/local/lib/python3.6/dist-packages/gensim/matutils.py:737: FutureWarning: Conversion of the second argument of issubdtype from `int` to `np.signedinteger` is deprecated. In future, it will be treated as `np.int64 == np.dtype(int).type`.\n",
            "  if np.issubdtype(vec.dtype, np.int):\n"
          ],
          "name": "stderr"
        },
        {
          "output_type": "execute_result",
          "data": {
            "text/plain": [
              "[('눈물', 0.7937376499176025),\n",
              " ('그리움', 0.7879326343536377),\n",
              " ('헤어짐', 0.7823807001113892),\n",
              " ('외로운', 0.7649414539337158),\n",
              " ('슬픈', 0.7643162608146667),\n",
              " ('우울할', 0.7586601376533508),\n",
              " ('비내리는날음악', 0.7579798698425293),\n",
              " ('이별하다', 0.7559695243835449),\n",
              " ('이별후', 0.750156044960022),\n",
              " ('절절한', 0.7416282296180725)]"
            ]
          },
          "metadata": {
            "tags": []
          },
          "execution_count": 89
        }
      ]
    },
    {
      "cell_type": "code",
      "metadata": {
        "colab": {
          "base_uri": "https://localhost:8080/"
        },
        "id": "NyVgyuq9ov2e",
        "outputId": "5c9791ee-9ce5-41d2-e6f0-bb9508f6ab36"
      },
      "source": [
        "model.w2v_model.wv.most_similar(['여름'])"
      ],
      "execution_count": null,
      "outputs": [
        {
          "output_type": "stream",
          "text": [
            "/usr/local/lib/python3.6/dist-packages/gensim/matutils.py:737: FutureWarning: Conversion of the second argument of issubdtype from `int` to `np.signedinteger` is deprecated. In future, it will be treated as `np.int64 == np.dtype(int).type`.\n",
            "  if np.issubdtype(vec.dtype, np.int):\n"
          ],
          "name": "stderr"
        },
        {
          "output_type": "execute_result",
          "data": {
            "text/plain": [
              "[('더위', 0.7738407254219055),\n",
              " ('휴가', 0.7679039239883423),\n",
              " ('시원한', 0.7590504884719849),\n",
              " ('여름노래', 0.7480428218841553),\n",
              " ('바캉스', 0.7433536052703857),\n",
              " ('해변', 0.7349833846092224),\n",
              " ('무더위', 0.7162644863128662),\n",
              " ('바다', 0.7126994132995605),\n",
              " ('시원', 0.7119068503379822),\n",
              " ('청량', 0.6945145130157471)]"
            ]
          },
          "metadata": {
            "tags": []
          },
          "execution_count": 90
        }
      ]
    },
    {
      "cell_type": "code",
      "metadata": {
        "colab": {
          "base_uri": "https://localhost:8080/"
        },
        "id": "XUmvIu-QoyZT",
        "outputId": "5a948ac5-009a-4ff7-ecfb-ddb1e668f933"
      },
      "source": [
        "model.w2v_model.wv.most_similar(['여름','듣고싶은'])"
      ],
      "execution_count": null,
      "outputs": [
        {
          "output_type": "stream",
          "text": [
            "/usr/local/lib/python3.6/dist-packages/gensim/matutils.py:737: FutureWarning: Conversion of the second argument of issubdtype from `int` to `np.signedinteger` is deprecated. In future, it will be treated as `np.int64 == np.dtype(int).type`.\n",
            "  if np.issubdtype(vec.dtype, np.int):\n"
          ],
          "name": "stderr"
        },
        {
          "output_type": "execute_result",
          "data": {
            "text/plain": [
              "[('여름송', 0.7075084447860718),\n",
              " ('614183', 0.6763818264007568),\n",
              " ('470608', 0.6753440499305725),\n",
              " ('427195', 0.6748813390731812),\n",
              " ('327931', 0.6566426753997803),\n",
              " ('11200', 0.6534104347229004),\n",
              " ('시원한', 0.6529701352119446),\n",
              " ('205426', 0.6521424055099487),\n",
              " ('더워', 0.6474078297615051),\n",
              " ('여름노래모음', 0.6442521214485168)]"
            ]
          },
          "metadata": {
            "tags": []
          },
          "execution_count": 92
        }
      ]
    },
    {
      "cell_type": "markdown",
      "metadata": {
        "id": "mcqQM577BQ-v"
      },
      "source": [
        "# **Trie**"
      ]
    },
    {
      "cell_type": "code",
      "metadata": {
        "id": "kGk2Pg9Xe_za"
      },
      "source": [
        "class Node:\n",
        "    def __init__(self, value):\n",
        "        self.value = value\n",
        "        self.children = {}\n",
        "        self.is_terminal = False\n",
        "\n",
        "class Trie:\n",
        "    def __init__(self, items):\n",
        "        self.head = Node(None)\n",
        "\n",
        "        print(\"********* DB 구성중입니다 *********\")\n",
        "        for item in items:\n",
        "            self.insert(item)\n",
        "        print(\"************ 입력 완료 ************\")\n",
        "\n",
        "    def insert(self, query):\n",
        "        curr_node = self.head\n",
        "\n",
        "        for q in query:\n",
        "            if curr_node.children.get(q) is None:\n",
        "                curr_node.children[q] = Node(q)\n",
        "            curr_node = curr_node.children[q]\n",
        "        curr_node.is_terminal = query\n",
        "\n",
        "    def extract(self, query, biggest_token = False):\n",
        "        query += '*' # padding\n",
        "        curr_node = self.head\n",
        "        extracted_tags = []\n",
        "\n",
        "        i = 0\n",
        "        while i < len(query):\n",
        "            curr_node = curr_node.children.get(query[i])\n",
        "\n",
        "            if curr_node is None:\n",
        "                if biggest_token and prev_node.is_terminal:\n",
        "                    extracted_tags.append(prev_node.is_terminal)\n",
        "                curr_node = self.head\n",
        "                prev_node = self.head\n",
        "\n",
        "                if self.head.children.get(query[i]) is None:\n",
        "                    # query[i]로 시작하는 단어가 애초에 없으면\n",
        "                    i += 1\n",
        "            else:\n",
        "                if curr_node.is_terminal:\n",
        "                    if not biggest_token:\n",
        "                        extracted_tags.append(curr_node.is_terminal)\n",
        "                    prev_node = curr_node\n",
        "\n",
        "                i += 1\n",
        " \n",
        "        return list(set(extracted_tags))"
      ],
      "execution_count": 269,
      "outputs": []
    },
    {
      "cell_type": "code",
      "metadata": {
        "colab": {
          "base_uri": "https://localhost:8080/"
        },
        "id": "DSJ40XQOe_3b",
        "outputId": "e057fe8f-dae1-4af1-f894-35f2ba5eba55"
      },
      "source": [
        "trie = Trie(model.w2v_model.wv.vocab.keys())"
      ],
      "execution_count": null,
      "outputs": [
        {
          "output_type": "stream",
          "text": [
            "********* DB 구성중입니다 *********\n",
            "************ 입력 완료 ************\n"
          ],
          "name": "stdout"
        }
      ]
    },
    {
      "cell_type": "code",
      "metadata": {
        "colab": {
          "base_uri": "https://localhost:8080/",
          "height": 35
        },
        "id": "OJ8A4tN_m4S8",
        "outputId": "cdf6504a-22e0-4bf0-aaf4-b71e113e0972"
      },
      "source": [
        "query = '비오는 날에 듣고 싶은 꿱 비오는날 쓸쓸한 발라드'\n",
        "query = query.replace(' ','')\n",
        "query"
      ],
      "execution_count": null,
      "outputs": [
        {
          "output_type": "execute_result",
          "data": {
            "application/vnd.google.colaboratory.intrinsic+json": {
              "type": "string"
            },
            "text/plain": [
              "'비오는날에듣고싶은꿱비오는날쓸쓸한발라드'"
            ]
          },
          "metadata": {
            "tags": []
          },
          "execution_count": 263
        }
      ]
    },
    {
      "cell_type": "code",
      "metadata": {
        "colab": {
          "base_uri": "https://localhost:8080/"
        },
        "id": "J7MMaycCm-oS",
        "outputId": "981a912a-fcdc-4ccc-a282-bb29d95e5068"
      },
      "source": [
        "extracted_all = trie.extract_all(query, False)\n",
        "extracted_max = trie.extract_all(query, True)\n",
        "print(extracted_all)\n",
        "print(extracted_max)"
      ],
      "execution_count": null,
      "outputs": [
        {
          "output_type": "stream",
          "text": [
            "['비오는날', '듣고싶은', '쓸쓸한', '듣고', '발라드', '쓸쓸', '비오는', '비']\n",
            "['비오는날', '듣고싶은', '발라드', '쓸쓸한']\n"
          ],
          "name": "stdout"
        }
      ]
    },
    {
      "cell_type": "code",
      "metadata": {
        "colab": {
          "base_uri": "https://localhost:8080/"
        },
        "id": "4zGBRlxFJ9Y8",
        "outputId": "3efeb356-1112-461f-aa0b-79675897e18d"
      },
      "source": [
        "trie.extract_all('아이유 노래만 모아모아')"
      ],
      "execution_count": 362,
      "outputs": [
        {
          "output_type": "execute_result",
          "data": {
            "text/plain": [
              "['아이유', '노래']"
            ]
          },
          "metadata": {
            "tags": []
          },
          "execution_count": 362
        }
      ]
    },
    {
      "cell_type": "code",
      "metadata": {
        "colab": {
          "base_uri": "https://localhost:8080/"
        },
        "id": "VC284fRHKFdO",
        "outputId": "d595642c-4675-481b-de91-768c8804f8b1"
      },
      "source": [
        "trie.extract_all('레드벨벳 노래만 모아모아')"
      ],
      "execution_count": 355,
      "outputs": [
        {
          "output_type": "execute_result",
          "data": {
            "text/plain": [
              "['레드벨벳', '노래']"
            ]
          },
          "metadata": {
            "tags": []
          },
          "execution_count": 355
        }
      ]
    },
    {
      "cell_type": "markdown",
      "metadata": {
        "id": "Vmyqg63uAjnu"
      },
      "source": [
        "# **TitleBasedRecommender**"
      ]
    },
    {
      "cell_type": "markdown",
      "metadata": {
        "id": "rwnN1JlcFdRs"
      },
      "source": [
        "* 노래, 듣고싶은, 어울리는 등 정보가 없는 tag는 어떻게 거르지?"
      ]
    },
    {
      "cell_type": "code",
      "metadata": {
        "id": "qsx-iPNiCp77"
      },
      "source": [
        "import pandas as pd\n",
        "\n",
        "song_meta = pd.read_json('/content/drive/MyDrive/Melon-PL-Continuation/0802/train_split/song_meta.json', typ = 'frame')"
      ],
      "execution_count": null,
      "outputs": []
    },
    {
      "cell_type": "code",
      "metadata": {
        "id": "n-3tQtMDID_c"
      },
      "source": [
        "model.w2v_model.wv.simi"
      ],
      "execution_count": null,
      "outputs": []
    },
    {
      "cell_type": "code",
      "metadata": {
        "id": "ReIZseF8AAoy"
      },
      "source": [
        "from itertools import combinations\n",
        "from collections import defaultdict\n",
        "\n",
        "class TitleBasedRecommender:\n",
        "    def __init__(self, w2v_model):\n",
        "        self.w2v_model = w2v_model\n",
        "        self.trie = Trie(self.w2v_model.wv.vocab.keys())\n",
        "\n",
        "    def filter_tags(self, tags):\n",
        "        if len(tags) <= 2:\n",
        "            return tags\n",
        "\n",
        "        pairs = []\n",
        "\n",
        "        for tag1, tag2 in combinations(tags,2):\n",
        "            sim = self.w2v_model.wv.similarity(tag1, tag2)\n",
        "            if sim < 0.1:\n",
        "                continue\n",
        "            pairs.append((sim, (tag1, tag2)))\n",
        "\n",
        "        print('> sims :',pairs)\n",
        "\n",
        "        # 0.75 quantile\n",
        "        M = max(sim for sim, _ in pairs)\n",
        "        m = min(sim for sim, _ in pairs)\n",
        "        threshold = m + 0.3*(M-m)\n",
        "\n",
        "        print('> threshold :',threshold)\n",
        "\n",
        "        # vote = defaultdict(int)\n",
        "        res = []\n",
        "        for sim, (tag1, tag2) in pairs:\n",
        "            if sim < threshold:\n",
        "                continue\n",
        "            res.append(tag1)\n",
        "            res.append(tag2)\n",
        "        #     vote[tag1] += 1\n",
        "        #     vote[tag2] += 1\n",
        "\n",
        "        # print('> vote:',vote)\n",
        "        # minimum_vote = 2 if len(vote) > 2 else 1\n",
        "\n",
        "        # return [tag for tag, count in vote.items() if count >= minimum_vote]\n",
        "        return list(set(res))\n",
        "\n",
        "    def title_based_recommend(self, title, topk , biggest_token = True):\n",
        "        title = \"\".join(re.findall('\\w', title))\n",
        "        print('> raw title :', title)\n",
        "        extracted_tags = self.trie.extract(title,biggest_token)\n",
        "        print('> Extracted tags :', extracted_tags)\n",
        "        extracted_tags = self.filter_tags(extracted_tags)\n",
        "        print(\"> Filtered tags :\",extracted_tags)\n",
        "\n",
        "        candidates = model.w2v_model.wv.most_similar(extracted_tags,topn = topk*20)\n",
        "        print('> Similar items :',[(item, round(sim,3)) for item,sim in candidates[:10]])\n",
        "        songs = [int(item) for item,sim in candidates if item.isdigit()]\n",
        "        if len(songs) < topk:\n",
        "            print(f'[Warning] Less than {topk}')\n",
        "        \n",
        "        songs = songs[:topk]\n",
        "\n",
        "        display(song_meta.iloc[songs])\n",
        "\n",
        "        return songs[:topk]\n"
      ],
      "execution_count": 547,
      "outputs": []
    },
    {
      "cell_type": "code",
      "metadata": {
        "colab": {
          "base_uri": "https://localhost:8080/"
        },
        "id": "Efymuh9R_Wme",
        "outputId": "933b0939-4d85-4ee3-c796-83b31999134f"
      },
      "source": [
        "rec = TitleBasedRecommender(model.w2v_model)"
      ],
      "execution_count": 548,
      "outputs": [
        {
          "output_type": "stream",
          "text": [
            "********* DB 구성중입니다 *********\n",
            "************ 입력 완료 ************\n"
          ],
          "name": "stdout"
        }
      ]
    },
    {
      "cell_type": "markdown",
      "metadata": {
        "id": "ccm2kwETay6U"
      },
      "source": [
        "## **추출한 태그 중에서 유용한 태그만 쓰자**\n",
        "1. tag가 2개 이하면 그대로 쓴다.\n",
        "* 레드벨벳+노래 / 아이유+노래 => 부적절한 결과가 나옴. 두개일때도 거를 필요가 있다.\n",
        "* 듣기좋은, 좋은, 좋다 등 역시 걸러내야할듯.\n",
        "2. combination을 이용해 모든 pair의 similarity를 계산한다.\n",
        "* 0.1 미만인 경우 제외한다.\n",
        "3. 0.3 qunatile 이상인 단어만 선택한다.\n",
        "4. 선택된 단어가 2개 이하인 경우 return한다. 만약 3개 이상인 경우 자기자신과 유사도가 높은 태그가 2개 이상인 경우만 골라 return한다."
      ]
    },
    {
      "cell_type": "markdown",
      "metadata": {
        "id": "UxuOEHzUdq5W"
      },
      "source": [
        "## **Vote 적용**\n",
        "버리고 싶은게 여러개가 생길 때 걸러주려고 만든건데 어짜피 버리고 싶은 애들은 voting 결과도 높은듯..ㅠㅠ"
      ]
    },
    {
      "cell_type": "code",
      "metadata": {
        "colab": {
          "base_uri": "https://localhost:8080/"
        },
        "id": "3mvjPjgXN7qe",
        "outputId": "197ee073-6d0a-47b8-fb8a-0cdc5fe62939"
      },
      "source": [
        "# '듣기좋은'이 제거된다.\n",
        "\n",
        "rec.filter_tags(['비오는날','듣기좋은','발라드'])"
      ],
      "execution_count": 489,
      "outputs": [
        {
          "output_type": "stream",
          "text": [
            "> sims : [(0.27830976, ('비오는날', '듣기좋은')), (0.35439962, ('비오는날', '발라드')), (0.26695967, ('듣기좋은', '발라드'))]\n",
            "> threshold : 0.29319165349006654\n",
            "> vote: defaultdict(<class 'int'>, {'비오는날': 1, '발라드': 1})\n"
          ],
          "name": "stdout"
        },
        {
          "output_type": "execute_result",
          "data": {
            "text/plain": [
              "['비오는날', '발라드']"
            ]
          },
          "metadata": {
            "tags": []
          },
          "execution_count": 489
        }
      ]
    },
    {
      "cell_type": "markdown",
      "metadata": {
        "id": "BK-h1IzOd9Wf"
      },
      "source": [
        "**듣기좋은을 버리려다가 vote 때문에 다 버렸다 ㅠㅠ**"
      ]
    },
    {
      "cell_type": "code",
      "metadata": {
        "colab": {
          "base_uri": "https://localhost:8080/"
        },
        "id": "J8RV-f3rdFs_",
        "outputId": "f615d492-03e4-41ff-c3aa-53f13a7e5e7c"
      },
      "source": [
        "rec.filter_tags(['비오는날','듣기좋은','발라드','쓸쓸한'])"
      ],
      "execution_count": 511,
      "outputs": [
        {
          "output_type": "stream",
          "text": [
            "> sims : [(0.27830976, ('비오는날', '듣기좋은')), (0.35439962, ('비오는날', '발라드')), (0.5973489, ('비오는날', '쓸쓸한')), (0.26695967, ('듣기좋은', '발라드')), (0.46125117, ('듣기좋은', '쓸쓸한')), (0.51886594, ('발라드', '쓸쓸한'))]\n",
            "> threshold : 0.3660764455795288\n",
            "> vote: defaultdict(<class 'int'>, {'비오는날': 1, '쓸쓸한': 3, '듣기좋은': 1, '발라드': 1})\n"
          ],
          "name": "stdout"
        },
        {
          "output_type": "execute_result",
          "data": {
            "text/plain": [
              "['쓸쓸한']"
            ]
          },
          "metadata": {
            "tags": []
          },
          "execution_count": 511
        }
      ]
    },
    {
      "cell_type": "markdown",
      "metadata": {
        "id": "mzVSyBYEeDX9"
      },
      "source": [
        "**어울리는의 vote가 가장 높다.**"
      ]
    },
    {
      "cell_type": "code",
      "metadata": {
        "colab": {
          "base_uri": "https://localhost:8080/"
        },
        "id": "5Dz5FmNWPD1j",
        "outputId": "7499dd93-2401-4e75-c4a7-8dfd4f96984e"
      },
      "source": [
        "# 모두 조건을 만족하므로 그대로 return한다.\n",
        "\n",
        "rec.filter_tags(['비오는날','어울리는','감성','발라드','듣기좋은'])"
      ],
      "execution_count": null,
      "outputs": [
        {
          "output_type": "stream",
          "text": [
            "> sims : [(0.20181474, ('비오는날', '어울리는')), (0.5378175, ('비오는날', '감성')), (0.35439962, ('비오는날', '발라드')), (0.27830976, ('비오는날', '듣기좋은')), (0.34657863, ('어울리는', '감성')), (0.37699884, ('어울리는', '발라드')), (0.4067713, ('어울리는', '듣기좋은')), (0.45224562, ('감성', '발라드')), (0.5519384, ('감성', '듣기좋은')), (0.26695967, ('발라드', '듣기좋은'))]\n",
            "> threshold : 0.30685184299945834\n",
            "> vote: defaultdict(<class 'int'>, {'비오는날': 2, '감성': 4, '발라드': 3, '어울리는': 3, '듣기좋은': 2})\n"
          ],
          "name": "stdout"
        },
        {
          "output_type": "execute_result",
          "data": {
            "text/plain": [
              "['비오는날', '감성', '발라드', '어울리는', '듣기좋은']"
            ]
          },
          "metadata": {
            "tags": []
          },
          "execution_count": 491
        }
      ]
    },
    {
      "cell_type": "code",
      "metadata": {
        "colab": {
          "base_uri": "https://localhost:8080/"
        },
        "id": "wAmTSEnOO5kf",
        "outputId": "d4b2f043-cc70-4e29-c801-4972f6930e4a"
      },
      "source": [
        "# '아이' tag가 제거된다.\n",
        "\n",
        "rec.filter_tags(['아이','아이유','노래','듣기좋은'])"
      ],
      "execution_count": 490,
      "outputs": [
        {
          "output_type": "stream",
          "text": [
            "> sims : [(0.14882997, ('아이', '아이유')), (0.20757104, ('아이', '듣기좋은')), (0.33139578, ('아이유', '노래')), (0.28083703, ('아이유', '듣기좋은')), (0.39229074, ('노래', '듣기좋은'))]\n",
            "> threshold : 0.22186819911003114\n",
            "> vote: defaultdict(<class 'int'>, {'아이유': 2, '노래': 2, '듣기좋은': 2})\n"
          ],
          "name": "stdout"
        },
        {
          "output_type": "execute_result",
          "data": {
            "text/plain": [
              "['아이유', '노래', '듣기좋은']"
            ]
          },
          "metadata": {
            "tags": []
          },
          "execution_count": 490
        }
      ]
    },
    {
      "cell_type": "code",
      "metadata": {
        "colab": {
          "base_uri": "https://localhost:8080/"
        },
        "id": "KsfZ8ICkbk9D",
        "outputId": "81cbf4b4-aab8-4b20-c3f5-cc2722d6bdeb"
      },
      "source": [
        "# 차라리 그룹을 나누는게 낫나?\n",
        "print(rec.filter_tags(['알앤비','크러쉬','아이유','걸그룹'])) # => 힙합,크러쉬 / 아이유,걸그룹으로 나누어 추천할 수 있도록?\n",
        "print()\n",
        "print(rec.filter_tags(['알앤비','크러쉬','아이유'])) # 크러쉬랑 힙합은 낮구나 생각보다?\n",
        "print()\n",
        "print(rec.filter_tags(['힙합','크러쉬','아이유'])) # 힙합,크러쉬가 더 적절하지 않나? 힙합,아이유를 sim < 0.1로 제거해버려서 이런듯 ㅠㅠ"
      ],
      "execution_count": 510,
      "outputs": [
        {
          "output_type": "stream",
          "text": [
            "> sims : [(0.31463957, ('알앤비', '크러쉬')), (0.28994042, ('알앤비', '걸그룹')), (0.30506712, ('크러쉬', '아이유')), (0.24227764, ('크러쉬', '걸그룹')), (0.32081372, ('아이유', '걸그룹'))]\n",
            "> threshold : 0.265838460624218\n",
            "> vote: defaultdict(<class 'int'>, {'알앤비': 2, '크러쉬': 2, '걸그룹': 2, '아이유': 2})\n",
            "['알앤비', '크러쉬', '걸그룹', '아이유']\n",
            "\n",
            "> sims : [(0.31463957, ('알앤비', '크러쉬')), (0.30506712, ('크러쉬', '아이유'))]\n",
            "> threshold : 0.30793885588645936\n",
            "> vote: defaultdict(<class 'int'>, {'알앤비': 1, '크러쉬': 1})\n",
            "['알앤비', '크러쉬']\n",
            "\n",
            "> sims : [(0.2191701, ('힙합', '크러쉬')), (0.30506712, ('크러쉬', '아이유'))]\n",
            "> threshold : 0.2449392020702362\n",
            "> vote: defaultdict(<class 'int'>, {'크러쉬': 1, '아이유': 1})\n",
            "['크러쉬', '아이유']\n"
          ],
          "name": "stdout"
        }
      ]
    },
    {
      "cell_type": "markdown",
      "metadata": {
        "id": "BVzEf6rkeJAc"
      },
      "source": [
        "## **Vote 안할래!**"
      ]
    },
    {
      "cell_type": "code",
      "metadata": {
        "colab": {
          "base_uri": "https://localhost:8080/"
        },
        "id": "P8AcS4FaeQEJ",
        "outputId": "a95c4008-d6c2-429b-d4a0-8395edb16295"
      },
      "source": [
        "# '듣기좋은'이 제거된다.\n",
        "\n",
        "rec.filter_tags(['비오는날','듣기좋은','발라드'])"
      ],
      "execution_count": 549,
      "outputs": [
        {
          "output_type": "stream",
          "text": [
            "> sims : [(0.27830976, ('비오는날', '듣기좋은')), (0.35439962, ('비오는날', '발라드')), (0.26695967, ('듣기좋은', '발라드'))]\n",
            "> threshold : 0.29319165349006654\n"
          ],
          "name": "stdout"
        },
        {
          "output_type": "execute_result",
          "data": {
            "text/plain": [
              "['비오는날', '발라드']"
            ]
          },
          "metadata": {
            "tags": []
          },
          "execution_count": 549
        }
      ]
    },
    {
      "cell_type": "code",
      "metadata": {
        "colab": {
          "base_uri": "https://localhost:8080/"
        },
        "id": "672EQe6CeQEM",
        "outputId": "9a401ed0-cf90-4d90-f6fe-53a964cb3f30"
      },
      "source": [
        "rec.filter_tags(['비오는날','듣기좋은','발라드','쓸쓸한'])"
      ],
      "execution_count": 550,
      "outputs": [
        {
          "output_type": "stream",
          "text": [
            "> sims : [(0.27830976, ('비오는날', '듣기좋은')), (0.35439962, ('비오는날', '발라드')), (0.5973489, ('비오는날', '쓸쓸한')), (0.26695967, ('듣기좋은', '발라드')), (0.46125117, ('듣기좋은', '쓸쓸한')), (0.51886594, ('발라드', '쓸쓸한'))]\n",
            "> threshold : 0.3660764455795288\n"
          ],
          "name": "stdout"
        },
        {
          "output_type": "execute_result",
          "data": {
            "text/plain": [
              "['듣기좋은', '비오는날', '발라드', '쓸쓸한']"
            ]
          },
          "metadata": {
            "tags": []
          },
          "execution_count": 550
        }
      ]
    },
    {
      "cell_type": "code",
      "metadata": {
        "colab": {
          "base_uri": "https://localhost:8080/"
        },
        "id": "AK9SqV9KeQEM",
        "outputId": "a5557177-09f2-49a9-9b35-5b811bc3d1cf"
      },
      "source": [
        "# 모두 조건을 만족하므로 그대로 return한다.\n",
        "\n",
        "rec.filter_tags(['비오는날','어울리는','감성','발라드','듣기좋은'])"
      ],
      "execution_count": 551,
      "outputs": [
        {
          "output_type": "stream",
          "text": [
            "> sims : [(0.20181474, ('비오는날', '어울리는')), (0.5378175, ('비오는날', '감성')), (0.35439962, ('비오는날', '발라드')), (0.27830976, ('비오는날', '듣기좋은')), (0.34657863, ('어울리는', '감성')), (0.37699884, ('어울리는', '발라드')), (0.4067713, ('어울리는', '듣기좋은')), (0.45224562, ('감성', '발라드')), (0.5519384, ('감성', '듣기좋은')), (0.26695967, ('발라드', '듣기좋은'))]\n",
            "> threshold : 0.30685184299945834\n"
          ],
          "name": "stdout"
        },
        {
          "output_type": "execute_result",
          "data": {
            "text/plain": [
              "['비오는날', '감성', '듣기좋은', '어울리는', '발라드']"
            ]
          },
          "metadata": {
            "tags": []
          },
          "execution_count": 551
        }
      ]
    },
    {
      "cell_type": "code",
      "metadata": {
        "colab": {
          "base_uri": "https://localhost:8080/"
        },
        "id": "VQOuFHAHeQEM",
        "outputId": "858f8b7d-fda2-489e-d6a2-9553f6b6d7ab"
      },
      "source": [
        "# '아이' tag가 제거된다.\n",
        "\n",
        "rec.filter_tags(['아이','아이유','노래','듣기좋은'])"
      ],
      "execution_count": 552,
      "outputs": [
        {
          "output_type": "stream",
          "text": [
            "> sims : [(0.14882997, ('아이', '아이유')), (0.20757104, ('아이', '듣기좋은')), (0.33139578, ('아이유', '노래')), (0.28083703, ('아이유', '듣기좋은')), (0.39229074, ('노래', '듣기좋은'))]\n",
            "> threshold : 0.22186819911003114\n"
          ],
          "name": "stdout"
        },
        {
          "output_type": "execute_result",
          "data": {
            "text/plain": [
              "['아이유', '노래', '듣기좋은']"
            ]
          },
          "metadata": {
            "tags": []
          },
          "execution_count": 552
        }
      ]
    },
    {
      "cell_type": "code",
      "metadata": {
        "colab": {
          "base_uri": "https://localhost:8080/"
        },
        "id": "benMRUL0fZf9",
        "outputId": "f194c70d-7702-41d2-9e02-20a7b6f1c722"
      },
      "source": [
        "# 여기선 아이가 제거 안되지만 ... biggest = True로 할거니까 일단 pass하자\n",
        "\n",
        "rec.filter_tags(['아이','아이유','노래','듣기좋은'])"
      ],
      "execution_count": 553,
      "outputs": [
        {
          "output_type": "stream",
          "text": [
            "> sims : [(0.14882997, ('아이', '아이유')), (0.20757104, ('아이', '듣기좋은')), (0.33139578, ('아이유', '노래')), (0.28083703, ('아이유', '듣기좋은')), (0.39229074, ('노래', '듣기좋은'))]\n",
            "> threshold : 0.22186819911003114\n"
          ],
          "name": "stdout"
        },
        {
          "output_type": "execute_result",
          "data": {
            "text/plain": [
              "['아이유', '노래', '듣기좋은']"
            ]
          },
          "metadata": {
            "tags": []
          },
          "execution_count": 553
        }
      ]
    },
    {
      "cell_type": "code",
      "metadata": {
        "colab": {
          "base_uri": "https://localhost:8080/"
        },
        "id": "-34FJQYYeQEN",
        "outputId": "d54eac29-495a-4da9-825b-d453e85bfa56"
      },
      "source": [
        "# 차라리 그룹을 나누는게 낫나?\n",
        "print(rec.filter_tags(['알앤비','크러쉬','아이유','걸그룹'])) # => 힙합,크러쉬 / 아이유,걸그룹으로 나누어 추천할 수 있도록?\n",
        "print()\n",
        "print(rec.filter_tags(['알앤비','크러쉬','아이유'])) # 크러쉬랑 힙합은 낮구나 생각보다?\n",
        "print()\n",
        "print(rec.filter_tags(['힙합','크러쉬','아이유'])) # 힙합,크러쉬가 더 적절하지 않나? 힙합,아이유를 sim < 0.1로 제거해버려서 이런듯 ㅠㅠ"
      ],
      "execution_count": 554,
      "outputs": [
        {
          "output_type": "stream",
          "text": [
            "> sims : [(0.31463957, ('알앤비', '크러쉬')), (0.28994042, ('알앤비', '걸그룹')), (0.30506712, ('크러쉬', '아이유')), (0.24227764, ('크러쉬', '걸그룹')), (0.32081372, ('아이유', '걸그룹'))]\n",
            "> threshold : 0.265838460624218\n",
            "['알앤비', '크러쉬', '걸그룹', '아이유']\n",
            "\n",
            "> sims : [(0.31463957, ('알앤비', '크러쉬')), (0.30506712, ('크러쉬', '아이유'))]\n",
            "> threshold : 0.30793885588645936\n",
            "['알앤비', '크러쉬']\n",
            "\n",
            "> sims : [(0.2191701, ('힙합', '크러쉬')), (0.30506712, ('크러쉬', '아이유'))]\n",
            "> threshold : 0.2449392020702362\n",
            "['아이유', '크러쉬']\n"
          ],
          "name": "stdout"
        }
      ]
    },
    {
      "cell_type": "markdown",
      "metadata": {
        "id": "ZjAg3q3VeQEN"
      },
      "source": [
        "## **결과 체쿠체쿠**"
      ]
    },
    {
      "cell_type": "code",
      "metadata": {
        "colab": {
          "base_uri": "https://localhost:8080/",
          "height": 485
        },
        "id": "OJBFMJOxBxmR",
        "outputId": "1a06774f-2b09-4374-a04c-3fa9ff0f4a15"
      },
      "source": [
        "# 모든 태그를 이용해서\n",
        "\n",
        "songs = rec.title_based_recommend('비오는 날에 듣고 싶은 ~~~! 쓸쓸한 발라드',10)"
      ],
      "execution_count": 492,
      "outputs": [
        {
          "output_type": "stream",
          "text": [
            "> raw title : 비오는날에듣고싶은쓸쓸한발라드\n",
            "> Extracted tags : ['비오는날', '듣고싶은', '발라드', '쓸쓸한']\n",
            "> sims : [(0.27691364, ('비오는날', '듣고싶은')), (0.35439962, ('비오는날', '발라드')), (0.5973489, ('비오는날', '쓸쓸한')), (0.25197995, ('듣고싶은', '발라드')), (0.24387904, ('듣고싶은', '쓸쓸한')), (0.51886594, ('발라드', '쓸쓸한'))]\n",
            "> threshold : 0.3499200075864792\n",
            "> vote: defaultdict(<class 'int'>, {'비오는날': 2, '발라드': 2, '쓸쓸한': 2})\n",
            "> Filtered tags : ['비오는날', '발라드', '쓸쓸한']\n",
            "> Similar items : [('눈물', 0.782), ('헤어짐', 0.778), ('그리움', 0.769), ('외로운', 0.767), ('비', 0.764), ('쓸쓸', 0.757), ('감성발라드', 0.757), ('이별', 0.754), ('비내리는날음악', 0.752), ('우울', 0.75)]\n"
          ],
          "name": "stdout"
        },
        {
          "output_type": "display_data",
          "data": {
            "text/html": [
              "<div>\n",
              "<style scoped>\n",
              "    .dataframe tbody tr th:only-of-type {\n",
              "        vertical-align: middle;\n",
              "    }\n",
              "\n",
              "    .dataframe tbody tr th {\n",
              "        vertical-align: top;\n",
              "    }\n",
              "\n",
              "    .dataframe thead th {\n",
              "        text-align: right;\n",
              "    }\n",
              "</style>\n",
              "<table border=\"1\" class=\"dataframe\">\n",
              "  <thead>\n",
              "    <tr style=\"text-align: right;\">\n",
              "      <th></th>\n",
              "      <th>song_gn_dtl_gnr_basket</th>\n",
              "      <th>issue_date</th>\n",
              "      <th>album_name</th>\n",
              "      <th>album_id</th>\n",
              "      <th>artist_id_basket</th>\n",
              "      <th>song_name</th>\n",
              "      <th>song_gn_gnr_basket</th>\n",
              "      <th>artist_name_basket</th>\n",
              "      <th>id</th>\n",
              "    </tr>\n",
              "  </thead>\n",
              "  <tbody>\n",
              "    <tr>\n",
              "      <th>440014</th>\n",
              "      <td>[GN0501, GN0101, GN0506, GN0509]</td>\n",
              "      <td>20181204</td>\n",
              "      <td>틈</td>\n",
              "      <td>10228573</td>\n",
              "      <td>[790810]</td>\n",
              "      <td>틈 (Vocal by J은)</td>\n",
              "      <td>[GN0500, GN0100]</td>\n",
              "      <td>[platz (플랏츠)]</td>\n",
              "      <td>440014</td>\n",
              "    </tr>\n",
              "    <tr>\n",
              "      <th>120381</th>\n",
              "      <td>[GN0501, GN0304, GN0505, GN0301]</td>\n",
              "      <td>20170428</td>\n",
              "      <td>City Of Mine</td>\n",
              "      <td>10058391</td>\n",
              "      <td>[426500]</td>\n",
              "      <td>너의 그 말 (Feat. 김태현)</td>\n",
              "      <td>[GN0500, GN0300]</td>\n",
              "      <td>[블랙 스트라이크]</td>\n",
              "      <td>120381</td>\n",
              "    </tr>\n",
              "    <tr>\n",
              "      <th>469475</th>\n",
              "      <td>[GN0501, GN0101, GN0506, GN0509]</td>\n",
              "      <td>20160422</td>\n",
              "      <td>담담하게</td>\n",
              "      <td>2680897</td>\n",
              "      <td>[967065, 967067]</td>\n",
              "      <td>담담하게</td>\n",
              "      <td>[GN0500, GN0100]</td>\n",
              "      <td>[임슬기, 최강현]</td>\n",
              "      <td>469475</td>\n",
              "    </tr>\n",
              "    <tr>\n",
              "      <th>552037</th>\n",
              "      <td>[GN1801]</td>\n",
              "      <td>20180807</td>\n",
              "      <td>비를 좋아하는 그대에게</td>\n",
              "      <td>10192167</td>\n",
              "      <td>[1816598]</td>\n",
              "      <td>비를 좋아하는 그대에게</td>\n",
              "      <td>[GN1800]</td>\n",
              "      <td>[김윤아]</td>\n",
              "      <td>552037</td>\n",
              "    </tr>\n",
              "    <tr>\n",
              "      <th>352079</th>\n",
              "      <td>[GN0101]</td>\n",
              "      <td>20191216</td>\n",
              "      <td>이제야 알았어</td>\n",
              "      <td>10364593</td>\n",
              "      <td>[2735253]</td>\n",
              "      <td>이제야 알았어 (Feat. 유성현)</td>\n",
              "      <td>[GN0100]</td>\n",
              "      <td>[유나잇]</td>\n",
              "      <td>352079</td>\n",
              "    </tr>\n",
              "    <tr>\n",
              "      <th>459600</th>\n",
              "      <td>[GN0105, GN0101]</td>\n",
              "      <td>20170505</td>\n",
              "      <td>한동근 1ST ALBUM `Your Diary`</td>\n",
              "      <td>10059997</td>\n",
              "      <td>[711476]</td>\n",
              "      <td>지겹다</td>\n",
              "      <td>[GN0100]</td>\n",
              "      <td>[한동근]</td>\n",
              "      <td>459600</td>\n",
              "    </tr>\n",
              "    <tr>\n",
              "      <th>478358</th>\n",
              "      <td>[GN0101]</td>\n",
              "      <td>20170919</td>\n",
              "      <td>END</td>\n",
              "      <td>10097192</td>\n",
              "      <td>[1910712]</td>\n",
              "      <td>END</td>\n",
              "      <td>[GN0100]</td>\n",
              "      <td>[Moonde]</td>\n",
              "      <td>478358</td>\n",
              "    </tr>\n",
              "    <tr>\n",
              "      <th>172479</th>\n",
              "      <td>[GN0501, GN0101, GN0506, GN0509]</td>\n",
              "      <td>20170307</td>\n",
              "      <td>Happy Together</td>\n",
              "      <td>10043583</td>\n",
              "      <td>[1382184]</td>\n",
              "      <td>Happy Together</td>\n",
              "      <td>[GN0500, GN0100]</td>\n",
              "      <td>[인환]</td>\n",
              "      <td>172479</td>\n",
              "    </tr>\n",
              "    <tr>\n",
              "      <th>264312</th>\n",
              "      <td>[GN0101]</td>\n",
              "      <td>20180710</td>\n",
              "      <td>’Melody for you’</td>\n",
              "      <td>10183023</td>\n",
              "      <td>[2018151]</td>\n",
              "      <td>MOM (겨울나무)</td>\n",
              "      <td>[GN0100]</td>\n",
              "      <td>[홍아]</td>\n",
              "      <td>264312</td>\n",
              "    </tr>\n",
              "    <tr>\n",
              "      <th>465818</th>\n",
              "      <td>[GN0401, GN0402]</td>\n",
              "      <td>20190111</td>\n",
              "      <td>alone</td>\n",
              "      <td>10241580</td>\n",
              "      <td>[2559506]</td>\n",
              "      <td>alone</td>\n",
              "      <td>[GN0400]</td>\n",
              "      <td>[1F (퍼스트플로어)]</td>\n",
              "      <td>465818</td>\n",
              "    </tr>\n",
              "  </tbody>\n",
              "</table>\n",
              "</div>"
            ],
            "text/plain": [
              "                  song_gn_dtl_gnr_basket  issue_date  ... artist_name_basket      id\n",
              "440014  [GN0501, GN0101, GN0506, GN0509]    20181204  ...      [platz (플랏츠)]  440014\n",
              "120381  [GN0501, GN0304, GN0505, GN0301]    20170428  ...         [블랙 스트라이크]  120381\n",
              "469475  [GN0501, GN0101, GN0506, GN0509]    20160422  ...         [임슬기, 최강현]  469475\n",
              "552037                          [GN1801]    20180807  ...              [김윤아]  552037\n",
              "352079                          [GN0101]    20191216  ...              [유나잇]  352079\n",
              "459600                  [GN0105, GN0101]    20170505  ...              [한동근]  459600\n",
              "478358                          [GN0101]    20170919  ...           [Moonde]  478358\n",
              "172479  [GN0501, GN0101, GN0506, GN0509]    20170307  ...               [인환]  172479\n",
              "264312                          [GN0101]    20180710  ...               [홍아]  264312\n",
              "465818                  [GN0401, GN0402]    20190111  ...      [1F (퍼스트플로어)]  465818\n",
              "\n",
              "[10 rows x 9 columns]"
            ]
          },
          "metadata": {
            "tags": []
          }
        }
      ]
    },
    {
      "cell_type": "markdown",
      "metadata": {
        "id": "OnA6Hq4aFptV"
      },
      "source": [
        "**정보가 없는 tag에 의해 결과가 부적절하게 바뀐다.**\n",
        "* 레드벨벳 + 노래 => 왜 세븐틴이?"
      ]
    },
    {
      "cell_type": "code",
      "metadata": {
        "colab": {
          "base_uri": "https://localhost:8080/",
          "height": 586
        },
        "id": "_ZnyNylYEgxd",
        "outputId": "afd72c7a-9fd3-467a-fc9b-f0c7fa5949a4"
      },
      "source": [
        "songs = rec.title_based_recommend('레드벨벳만 모아모아',15, True)"
      ],
      "execution_count": 496,
      "outputs": [
        {
          "output_type": "stream",
          "text": [
            "> raw title : 레드벨벳만모아모아\n",
            "> Extracted tags : ['레드벨벳']\n",
            "> Filtered tags : ['레드벨벳']\n",
            "> Similar items : [('20854', 0.855), ('516240', 0.853), ('591528', 0.849), ('247529', 0.838), ('389292', 0.838), ('212807', 0.835), ('610809', 0.834), ('685425', 0.834), ('483052', 0.833), ('56170', 0.833)]\n"
          ],
          "name": "stdout"
        },
        {
          "output_type": "display_data",
          "data": {
            "text/html": [
              "<div>\n",
              "<style scoped>\n",
              "    .dataframe tbody tr th:only-of-type {\n",
              "        vertical-align: middle;\n",
              "    }\n",
              "\n",
              "    .dataframe tbody tr th {\n",
              "        vertical-align: top;\n",
              "    }\n",
              "\n",
              "    .dataframe thead th {\n",
              "        text-align: right;\n",
              "    }\n",
              "</style>\n",
              "<table border=\"1\" class=\"dataframe\">\n",
              "  <thead>\n",
              "    <tr style=\"text-align: right;\">\n",
              "      <th></th>\n",
              "      <th>song_gn_dtl_gnr_basket</th>\n",
              "      <th>issue_date</th>\n",
              "      <th>album_name</th>\n",
              "      <th>album_id</th>\n",
              "      <th>artist_id_basket</th>\n",
              "      <th>song_name</th>\n",
              "      <th>song_gn_gnr_basket</th>\n",
              "      <th>artist_name_basket</th>\n",
              "      <th>id</th>\n",
              "    </tr>\n",
              "  </thead>\n",
              "  <tbody>\n",
              "    <tr>\n",
              "      <th>20854</th>\n",
              "      <td>[GN2503, GN2501, GN2504, GN0301]</td>\n",
              "      <td>20171117</td>\n",
              "      <td>Perfect Velvet - The 2nd Album</td>\n",
              "      <td>10112486</td>\n",
              "      <td>[780066]</td>\n",
              "      <td>Attaboy</td>\n",
              "      <td>[GN2500, GN0300]</td>\n",
              "      <td>[Red Velvet (레드벨벳)]</td>\n",
              "      <td>20854</td>\n",
              "    </tr>\n",
              "    <tr>\n",
              "      <th>516240</th>\n",
              "      <td>[GN1912, GN1902, GN1901]</td>\n",
              "      <td>20190424</td>\n",
              "      <td>Power Up (Japanese Ver.)</td>\n",
              "      <td>10277331</td>\n",
              "      <td>[780066]</td>\n",
              "      <td>Power Up (Japanese Ver.)</td>\n",
              "      <td>[GN1900]</td>\n",
              "      <td>[Red Velvet (레드벨벳)]</td>\n",
              "      <td>516240</td>\n",
              "    </tr>\n",
              "    <tr>\n",
              "      <th>591528</th>\n",
              "      <td>[GN1912, GN1902, GN1901]</td>\n",
              "      <td>20180704</td>\n",
              "      <td>#Cookie Jar</td>\n",
              "      <td>10181640</td>\n",
              "      <td>[780066]</td>\n",
              "      <td>Russian Roulette</td>\n",
              "      <td>[GN1900]</td>\n",
              "      <td>[Red Velvet (레드벨벳)]</td>\n",
              "      <td>591528</td>\n",
              "    </tr>\n",
              "    <tr>\n",
              "      <th>247529</th>\n",
              "      <td>[GN1912, GN1902, GN1901]</td>\n",
              "      <td>20180704</td>\n",
              "      <td>#Cookie Jar</td>\n",
              "      <td>10181640</td>\n",
              "      <td>[780066]</td>\n",
              "      <td>Red Flavor</td>\n",
              "      <td>[GN1900]</td>\n",
              "      <td>[Red Velvet (레드벨벳)]</td>\n",
              "      <td>247529</td>\n",
              "    </tr>\n",
              "    <tr>\n",
              "      <th>389292</th>\n",
              "      <td>[GN1912, GN1902, GN1901]</td>\n",
              "      <td>20180704</td>\n",
              "      <td>#Cookie Jar</td>\n",
              "      <td>10181640</td>\n",
              "      <td>[780066]</td>\n",
              "      <td>Dumb Dumb</td>\n",
              "      <td>[GN1900]</td>\n",
              "      <td>[Red Velvet (레드벨벳)]</td>\n",
              "      <td>389292</td>\n",
              "    </tr>\n",
              "    <tr>\n",
              "      <th>212807</th>\n",
              "      <td>[GN2503, GN0205, GN2501, GN2506, GN0201]</td>\n",
              "      <td>20180806</td>\n",
              "      <td>Summer Magic - Summer Mini Album</td>\n",
              "      <td>10191694</td>\n",
              "      <td>[780066]</td>\n",
              "      <td>Mosquito</td>\n",
              "      <td>[GN2500, GN0200]</td>\n",
              "      <td>[Red Velvet (레드벨벳)]</td>\n",
              "      <td>212807</td>\n",
              "    </tr>\n",
              "    <tr>\n",
              "      <th>610809</th>\n",
              "      <td>[GN1912, GN1902, GN1901]</td>\n",
              "      <td>20190530</td>\n",
              "      <td>SAPPY</td>\n",
              "      <td>10291753</td>\n",
              "      <td>[780066]</td>\n",
              "      <td>Power Up (Japanese Ver.)</td>\n",
              "      <td>[GN1900]</td>\n",
              "      <td>[Red Velvet (레드벨벳)]</td>\n",
              "      <td>610809</td>\n",
              "    </tr>\n",
              "    <tr>\n",
              "      <th>685425</th>\n",
              "      <td>[GN2503, GN0205, GN2501, GN2506, GN0201]</td>\n",
              "      <td>20191223</td>\n",
              "      <td>‘The ReVe Festival’ Finale</td>\n",
              "      <td>10368053</td>\n",
              "      <td>[780066]</td>\n",
              "      <td>음파음파 (Umpah Umpah)</td>\n",
              "      <td>[GN2500, GN0200]</td>\n",
              "      <td>[Red Velvet (레드벨벳)]</td>\n",
              "      <td>685425</td>\n",
              "    </tr>\n",
              "    <tr>\n",
              "      <th>483052</th>\n",
              "      <td>[GN0401, GN2503, GN0403, GN2501]</td>\n",
              "      <td>20160317</td>\n",
              "      <td>The Velvet - The 2nd Mini Album</td>\n",
              "      <td>2673322</td>\n",
              "      <td>[780066]</td>\n",
              "      <td>7월 7일 (One Of These Nights) (Joe Millionaire V...</td>\n",
              "      <td>[GN0400, GN2500]</td>\n",
              "      <td>[Red Velvet (레드벨벳)]</td>\n",
              "      <td>483052</td>\n",
              "    </tr>\n",
              "    <tr>\n",
              "      <th>56170</th>\n",
              "      <td>[GN0401, GN2503, GN0403, GN2501]</td>\n",
              "      <td>20160317</td>\n",
              "      <td>The Velvet - The 2nd Mini Album</td>\n",
              "      <td>2673322</td>\n",
              "      <td>[780066]</td>\n",
              "      <td>7월 7일 (One Of These Nights) (De-Capo Ver.)</td>\n",
              "      <td>[GN0400, GN2500]</td>\n",
              "      <td>[Red Velvet (레드벨벳)]</td>\n",
              "      <td>56170</td>\n",
              "    </tr>\n",
              "    <tr>\n",
              "      <th>538263</th>\n",
              "      <td>[GN1912, GN1902, GN1901]</td>\n",
              "      <td>20180704</td>\n",
              "      <td>#Cookie Jar</td>\n",
              "      <td>10181640</td>\n",
              "      <td>[780066]</td>\n",
              "      <td>`Cause it`s you</td>\n",
              "      <td>[GN1900]</td>\n",
              "      <td>[Red Velvet (레드벨벳)]</td>\n",
              "      <td>538263</td>\n",
              "    </tr>\n",
              "    <tr>\n",
              "      <th>664815</th>\n",
              "      <td>[GN0401, GN2503, GN2501]</td>\n",
              "      <td>20190820</td>\n",
              "      <td>‘The ReVe Festival’ Day 2</td>\n",
              "      <td>10319561</td>\n",
              "      <td>[780066]</td>\n",
              "      <td>Ladies Night</td>\n",
              "      <td>[GN0400, GN2500]</td>\n",
              "      <td>[Red Velvet (레드벨벳)]</td>\n",
              "      <td>664815</td>\n",
              "    </tr>\n",
              "    <tr>\n",
              "      <th>647882</th>\n",
              "      <td>[GN2503, GN2501, GN2506, GN0201]</td>\n",
              "      <td>20150909</td>\n",
              "      <td>The Red - The 1st Album</td>\n",
              "      <td>2639273</td>\n",
              "      <td>[780066]</td>\n",
              "      <td>Campfire</td>\n",
              "      <td>[GN2500, GN0200]</td>\n",
              "      <td>[Red Velvet (레드벨벳)]</td>\n",
              "      <td>647882</td>\n",
              "    </tr>\n",
              "    <tr>\n",
              "      <th>133901</th>\n",
              "      <td>[GN2503, GN0205, GN2501, GN2506, GN0201]</td>\n",
              "      <td>20171117</td>\n",
              "      <td>Perfect Velvet - The 2nd Album</td>\n",
              "      <td>10112486</td>\n",
              "      <td>[780066]</td>\n",
              "      <td>봐 (Look)</td>\n",
              "      <td>[GN2500, GN0200]</td>\n",
              "      <td>[Red Velvet (레드벨벳)]</td>\n",
              "      <td>133901</td>\n",
              "    </tr>\n",
              "    <tr>\n",
              "      <th>508060</th>\n",
              "      <td>[GN0401, GN2503, GN2501, GN0402]</td>\n",
              "      <td>20180129</td>\n",
              "      <td>The Perfect Red Velvet - The 2nd Album Repackage</td>\n",
              "      <td>10134032</td>\n",
              "      <td>[780066]</td>\n",
              "      <td>Perfect 10</td>\n",
              "      <td>[GN0400, GN2500]</td>\n",
              "      <td>[Red Velvet (레드벨벳)]</td>\n",
              "      <td>508060</td>\n",
              "    </tr>\n",
              "  </tbody>\n",
              "</table>\n",
              "</div>"
            ],
            "text/plain": [
              "                          song_gn_dtl_gnr_basket  ...      id\n",
              "20854           [GN2503, GN2501, GN2504, GN0301]  ...   20854\n",
              "516240                  [GN1912, GN1902, GN1901]  ...  516240\n",
              "591528                  [GN1912, GN1902, GN1901]  ...  591528\n",
              "247529                  [GN1912, GN1902, GN1901]  ...  247529\n",
              "389292                  [GN1912, GN1902, GN1901]  ...  389292\n",
              "212807  [GN2503, GN0205, GN2501, GN2506, GN0201]  ...  212807\n",
              "610809                  [GN1912, GN1902, GN1901]  ...  610809\n",
              "685425  [GN2503, GN0205, GN2501, GN2506, GN0201]  ...  685425\n",
              "483052          [GN0401, GN2503, GN0403, GN2501]  ...  483052\n",
              "56170           [GN0401, GN2503, GN0403, GN2501]  ...   56170\n",
              "538263                  [GN1912, GN1902, GN1901]  ...  538263\n",
              "664815                  [GN0401, GN2503, GN2501]  ...  664815\n",
              "647882          [GN2503, GN2501, GN2506, GN0201]  ...  647882\n",
              "133901  [GN2503, GN0205, GN2501, GN2506, GN0201]  ...  133901\n",
              "508060          [GN0401, GN2503, GN2501, GN0402]  ...  508060\n",
              "\n",
              "[15 rows x 9 columns]"
            ]
          },
          "metadata": {
            "tags": []
          }
        }
      ]
    },
    {
      "cell_type": "markdown",
      "metadata": {
        "id": "0FOpcj-JgqEv"
      },
      "source": [
        "**아이유는 특이한 케이스지 않을까..**"
      ]
    },
    {
      "cell_type": "code",
      "metadata": {
        "colab": {
          "base_uri": "https://localhost:8080/",
          "height": 586
        },
        "id": "VuG_JbZ9G4Ks",
        "outputId": "c3369950-739c-42f6-84bc-0b9dd6e1026e"
      },
      "source": [
        "songs = rec.title_based_recommend('아이유',15)"
      ],
      "execution_count": 559,
      "outputs": [
        {
          "output_type": "stream",
          "text": [
            "> raw title : 아이유\n",
            "> Extracted tags : ['아이유']\n",
            "> Filtered tags : ['아이유']\n",
            "> Similar items : [('IU', 0.788), ('아이유콘서트', 0.765), ('이지금', 0.748), ('아이유노래모음', 0.744), ('유애나', 0.743), ('LovePoem', 0.74), ('팔레트', 0.74), ('아이유히트곡', 0.737), ('dlwlrma', 0.736), ('갓이유', 0.735)]\n"
          ],
          "name": "stdout"
        },
        {
          "output_type": "display_data",
          "data": {
            "text/html": [
              "<div>\n",
              "<style scoped>\n",
              "    .dataframe tbody tr th:only-of-type {\n",
              "        vertical-align: middle;\n",
              "    }\n",
              "\n",
              "    .dataframe tbody tr th {\n",
              "        vertical-align: top;\n",
              "    }\n",
              "\n",
              "    .dataframe thead th {\n",
              "        text-align: right;\n",
              "    }\n",
              "</style>\n",
              "<table border=\"1\" class=\"dataframe\">\n",
              "  <thead>\n",
              "    <tr style=\"text-align: right;\">\n",
              "      <th></th>\n",
              "      <th>song_gn_dtl_gnr_basket</th>\n",
              "      <th>issue_date</th>\n",
              "      <th>album_name</th>\n",
              "      <th>album_id</th>\n",
              "      <th>artist_id_basket</th>\n",
              "      <th>song_name</th>\n",
              "      <th>song_gn_gnr_basket</th>\n",
              "      <th>artist_name_basket</th>\n",
              "      <th>id</th>\n",
              "    </tr>\n",
              "  </thead>\n",
              "  <tbody>\n",
              "    <tr>\n",
              "      <th>646278</th>\n",
              "      <td>[GN1701]</td>\n",
              "      <td>20131124</td>\n",
              "      <td>Nigerian Beats and Drums</td>\n",
              "      <td>3123703</td>\n",
              "      <td>[712938]</td>\n",
              "      <td>The End</td>\n",
              "      <td>[GN1700]</td>\n",
              "      <td>[Africana]</td>\n",
              "      <td>646278</td>\n",
              "    </tr>\n",
              "    <tr>\n",
              "      <th>630534</th>\n",
              "      <td>[GN0301]</td>\n",
              "      <td>20090702</td>\n",
              "      <td>Suga Luv</td>\n",
              "      <td>598564</td>\n",
              "      <td>[299169]</td>\n",
              "      <td>Suga Luv (Feat. 아이유) (Inst.)</td>\n",
              "      <td>[GN0300]</td>\n",
              "      <td>[비즈니즈]</td>\n",
              "      <td>630534</td>\n",
              "    </tr>\n",
              "    <tr>\n",
              "      <th>166009</th>\n",
              "      <td>[GN0105, GN0101]</td>\n",
              "      <td>20121221</td>\n",
              "      <td>내 생애 마지막 오디션 - 제3라운드 최후의 듀엣대결 1탄</td>\n",
              "      <td>2170893</td>\n",
              "      <td>[713967, 713963]</td>\n",
              "      <td>잔소리 (원곡가수 아이유, 임슬옹)</td>\n",
              "      <td>[GN0100]</td>\n",
              "      <td>[이도진, 김연준]</td>\n",
              "      <td>166009</td>\n",
              "    </tr>\n",
              "    <tr>\n",
              "      <th>582913</th>\n",
              "      <td>[GN0201]</td>\n",
              "      <td>20131008</td>\n",
              "      <td>Modern Times</td>\n",
              "      <td>2208448</td>\n",
              "      <td>[261143]</td>\n",
              "      <td>기다려</td>\n",
              "      <td>[GN0200]</td>\n",
              "      <td>[아이유]</td>\n",
              "      <td>582913</td>\n",
              "    </tr>\n",
              "    <tr>\n",
              "      <th>332962</th>\n",
              "      <td>[GN0101]</td>\n",
              "      <td>20101117</td>\n",
              "      <td>피아노 가요 연주곡 13</td>\n",
              "      <td>1078052</td>\n",
              "      <td>[465221]</td>\n",
              "      <td>그대네요 (성시경, 아이유)</td>\n",
              "      <td>[GN0100]</td>\n",
              "      <td>[뮤직 쿠키]</td>\n",
              "      <td>332962</td>\n",
              "    </tr>\n",
              "    <tr>\n",
              "      <th>352289</th>\n",
              "      <td>[GN0101]</td>\n",
              "      <td>20090618</td>\n",
              "      <td>음악여행 라라라 Live Vol.5</td>\n",
              "      <td>588952</td>\n",
              "      <td>[197928, 261143, 236880]</td>\n",
              "      <td>All You Need Is Love</td>\n",
              "      <td>[GN0100]</td>\n",
              "      <td>[짙은, 아이유, 란 (RAN)]</td>\n",
              "      <td>352289</td>\n",
              "    </tr>\n",
              "    <tr>\n",
              "      <th>575265</th>\n",
              "      <td>[GN0801, GN0802]</td>\n",
              "      <td>20120806</td>\n",
              "      <td>송창식 (가위, 바위, 보)</td>\n",
              "      <td>2171065</td>\n",
              "      <td>[833]</td>\n",
              "      <td>가위 바위 보</td>\n",
              "      <td>[GN0800]</td>\n",
              "      <td>[송창식]</td>\n",
              "      <td>575265</td>\n",
              "    </tr>\n",
              "    <tr>\n",
              "      <th>68324</th>\n",
              "      <td>[GN0201]</td>\n",
              "      <td>20091112</td>\n",
              "      <td>IU...IM</td>\n",
              "      <td>718505</td>\n",
              "      <td>[261143]</td>\n",
              "      <td>아침 눈물 (Inst.)</td>\n",
              "      <td>[GN0200]</td>\n",
              "      <td>[아이유]</td>\n",
              "      <td>68324</td>\n",
              "    </tr>\n",
              "    <tr>\n",
              "      <th>522124</th>\n",
              "      <td>[GN2001]</td>\n",
              "      <td>20110829</td>\n",
              "      <td>Tassili</td>\n",
              "      <td>2008791</td>\n",
              "      <td>[551807]</td>\n",
              "      <td>Takkest Tamidaret</td>\n",
              "      <td>[GN2000]</td>\n",
              "      <td>[Tinariwen]</td>\n",
              "      <td>522124</td>\n",
              "    </tr>\n",
              "    <tr>\n",
              "      <th>429741</th>\n",
              "      <td>[GN0601, GN0606]</td>\n",
              "      <td>20191101</td>\n",
              "      <td>Love poem</td>\n",
              "      <td>10346650</td>\n",
              "      <td>[261143]</td>\n",
              "      <td>시간의 바깥</td>\n",
              "      <td>[GN0600]</td>\n",
              "      <td>[아이유]</td>\n",
              "      <td>429741</td>\n",
              "    </tr>\n",
              "    <tr>\n",
              "      <th>88885</th>\n",
              "      <td>[GN0601, GN0606]</td>\n",
              "      <td>20191118</td>\n",
              "      <td>Love poem</td>\n",
              "      <td>10346650</td>\n",
              "      <td>[261143]</td>\n",
              "      <td>자장가</td>\n",
              "      <td>[GN0600]</td>\n",
              "      <td>[아이유]</td>\n",
              "      <td>88885</td>\n",
              "    </tr>\n",
              "    <tr>\n",
              "      <th>360045</th>\n",
              "      <td>[GN0501, GN0601, GN0503, GN0606, GN0509]</td>\n",
              "      <td>20170716</td>\n",
              "      <td>Home to Stay (효리네 민박 타이틀)</td>\n",
              "      <td>10079737</td>\n",
              "      <td>[727771]</td>\n",
              "      <td>Home to Stay</td>\n",
              "      <td>[GN0500, GN0600]</td>\n",
              "      <td>[쏠라티]</td>\n",
              "      <td>360045</td>\n",
              "    </tr>\n",
              "    <tr>\n",
              "      <th>604194</th>\n",
              "      <td>[GN1701]</td>\n",
              "      <td>20160119</td>\n",
              "      <td>My Favorite Things</td>\n",
              "      <td>2662648</td>\n",
              "      <td>[943767]</td>\n",
              "      <td>I Mean You</td>\n",
              "      <td>[GN1700]</td>\n",
              "      <td>[Joey Alexander]</td>\n",
              "      <td>604194</td>\n",
              "    </tr>\n",
              "    <tr>\n",
              "      <th>572214</th>\n",
              "      <td>[GN0601, GN0606]</td>\n",
              "      <td>20191118</td>\n",
              "      <td>Love poem</td>\n",
              "      <td>10346650</td>\n",
              "      <td>[261143]</td>\n",
              "      <td>unlucky</td>\n",
              "      <td>[GN0600]</td>\n",
              "      <td>[아이유]</td>\n",
              "      <td>572214</td>\n",
              "    </tr>\n",
              "    <tr>\n",
              "      <th>452543</th>\n",
              "      <td>[GN0101]</td>\n",
              "      <td>20090618</td>\n",
              "      <td>음악여행 라라라 Live Vol.5</td>\n",
              "      <td>588952</td>\n",
              "      <td>[261143]</td>\n",
              "      <td>난 사랑을 아직 몰라</td>\n",
              "      <td>[GN0100]</td>\n",
              "      <td>[아이유]</td>\n",
              "      <td>452543</td>\n",
              "    </tr>\n",
              "  </tbody>\n",
              "</table>\n",
              "</div>"
            ],
            "text/plain": [
              "                          song_gn_dtl_gnr_basket  ...      id\n",
              "646278                                  [GN1701]  ...  646278\n",
              "630534                                  [GN0301]  ...  630534\n",
              "166009                          [GN0105, GN0101]  ...  166009\n",
              "582913                                  [GN0201]  ...  582913\n",
              "332962                                  [GN0101]  ...  332962\n",
              "352289                                  [GN0101]  ...  352289\n",
              "575265                          [GN0801, GN0802]  ...  575265\n",
              "68324                                   [GN0201]  ...   68324\n",
              "522124                                  [GN2001]  ...  522124\n",
              "429741                          [GN0601, GN0606]  ...  429741\n",
              "88885                           [GN0601, GN0606]  ...   88885\n",
              "360045  [GN0501, GN0601, GN0503, GN0606, GN0509]  ...  360045\n",
              "604194                                  [GN1701]  ...  604194\n",
              "572214                          [GN0601, GN0606]  ...  572214\n",
              "452543                                  [GN0101]  ...  452543\n",
              "\n",
              "[15 rows x 9 columns]"
            ]
          },
          "metadata": {
            "tags": []
          }
        }
      ]
    },
    {
      "cell_type": "markdown",
      "metadata": {
        "id": "TRZae01ZgvQf"
      },
      "source": [
        "**아이유 + 좋다 => 엉뚱한 vector가 되면서 많이 다른 결과가 된다.**"
      ]
    },
    {
      "cell_type": "code",
      "metadata": {
        "colab": {
          "base_uri": "https://localhost:8080/",
          "height": 586
        },
        "id": "gYhEiDxWGjSk",
        "outputId": "ef4d79f3-aaf3-4156-eca2-a4119ec5aa4f"
      },
      "source": [
        "songs = rec.title_based_recommend('아이유 참 좋다',15, True)"
      ],
      "execution_count": 560,
      "outputs": [
        {
          "output_type": "stream",
          "text": [
            "> raw title : 아이유참좋다\n",
            "> Extracted tags : ['좋다', '아이유']\n",
            "> Filtered tags : ['좋다', '아이유']\n",
            "> Similar items : [('LovePoem', 0.72), ('아이유셋리스트', 0.717), ('아이유히트곡', 0.688), ('아이유콘서트', 0.683), ('갓이유', 0.676), ('이지금', 0.665), ('dlwlrma', 0.664), ('광주', 0.66), ('밤편지', 0.658), ('팔레트', 0.654)]\n"
          ],
          "name": "stdout"
        },
        {
          "output_type": "display_data",
          "data": {
            "text/html": [
              "<div>\n",
              "<style scoped>\n",
              "    .dataframe tbody tr th:only-of-type {\n",
              "        vertical-align: middle;\n",
              "    }\n",
              "\n",
              "    .dataframe tbody tr th {\n",
              "        vertical-align: top;\n",
              "    }\n",
              "\n",
              "    .dataframe thead th {\n",
              "        text-align: right;\n",
              "    }\n",
              "</style>\n",
              "<table border=\"1\" class=\"dataframe\">\n",
              "  <thead>\n",
              "    <tr style=\"text-align: right;\">\n",
              "      <th></th>\n",
              "      <th>song_gn_dtl_gnr_basket</th>\n",
              "      <th>issue_date</th>\n",
              "      <th>album_name</th>\n",
              "      <th>album_id</th>\n",
              "      <th>artist_id_basket</th>\n",
              "      <th>song_name</th>\n",
              "      <th>song_gn_gnr_basket</th>\n",
              "      <th>artist_name_basket</th>\n",
              "      <th>id</th>\n",
              "    </tr>\n",
              "  </thead>\n",
              "  <tbody>\n",
              "    <tr>\n",
              "      <th>360045</th>\n",
              "      <td>[GN0501, GN0601, GN0503, GN0606, GN0509]</td>\n",
              "      <td>20170716</td>\n",
              "      <td>Home to Stay (효리네 민박 타이틀)</td>\n",
              "      <td>10079737</td>\n",
              "      <td>[727771]</td>\n",
              "      <td>Home to Stay</td>\n",
              "      <td>[GN0500, GN0600]</td>\n",
              "      <td>[쏠라티]</td>\n",
              "      <td>360045</td>\n",
              "    </tr>\n",
              "    <tr>\n",
              "      <th>646833</th>\n",
              "      <td>[GN0805, GN0501, GN0502, GN0801, GN0509]</td>\n",
              "      <td>20150331</td>\n",
              "      <td>다시 시작</td>\n",
              "      <td>2311660</td>\n",
              "      <td>[717128]</td>\n",
              "      <td>달자 (Feat. 림 Of 쏠라티)</td>\n",
              "      <td>[GN0500, GN0800]</td>\n",
              "      <td>[플레이모드]</td>\n",
              "      <td>646833</td>\n",
              "    </tr>\n",
              "    <tr>\n",
              "      <th>575265</th>\n",
              "      <td>[GN0801, GN0802]</td>\n",
              "      <td>20120806</td>\n",
              "      <td>송창식 (가위, 바위, 보)</td>\n",
              "      <td>2171065</td>\n",
              "      <td>[833]</td>\n",
              "      <td>가위 바위 보</td>\n",
              "      <td>[GN0800]</td>\n",
              "      <td>[송창식]</td>\n",
              "      <td>575265</td>\n",
              "    </tr>\n",
              "    <tr>\n",
              "      <th>332962</th>\n",
              "      <td>[GN0101]</td>\n",
              "      <td>20101117</td>\n",
              "      <td>피아노 가요 연주곡 13</td>\n",
              "      <td>1078052</td>\n",
              "      <td>[465221]</td>\n",
              "      <td>그대네요 (성시경, 아이유)</td>\n",
              "      <td>[GN0100]</td>\n",
              "      <td>[뮤직 쿠키]</td>\n",
              "      <td>332962</td>\n",
              "    </tr>\n",
              "    <tr>\n",
              "      <th>8706</th>\n",
              "      <td>[GN0805, GN0801]</td>\n",
              "      <td>20161222</td>\n",
              "      <td>제 27회 유재하 음악경연대회</td>\n",
              "      <td>10025324</td>\n",
              "      <td>[1273983]</td>\n",
              "      <td>나무에 걸린 물고기</td>\n",
              "      <td>[GN0800]</td>\n",
              "      <td>[장희원팀]</td>\n",
              "      <td>8706</td>\n",
              "    </tr>\n",
              "    <tr>\n",
              "      <th>646278</th>\n",
              "      <td>[GN1701]</td>\n",
              "      <td>20131124</td>\n",
              "      <td>Nigerian Beats and Drums</td>\n",
              "      <td>3123703</td>\n",
              "      <td>[712938]</td>\n",
              "      <td>The End</td>\n",
              "      <td>[GN1700]</td>\n",
              "      <td>[Africana]</td>\n",
              "      <td>646278</td>\n",
              "    </tr>\n",
              "    <tr>\n",
              "      <th>272355</th>\n",
              "      <td>[GN0805, GN0501, GN0502, GN0801, GN0509]</td>\n",
              "      <td>20160726</td>\n",
              "      <td>게다가 주말</td>\n",
              "      <td>2699764</td>\n",
              "      <td>[944301]</td>\n",
              "      <td>게다가 주말</td>\n",
              "      <td>[GN0500, GN0800]</td>\n",
              "      <td>[천석만]</td>\n",
              "      <td>272355</td>\n",
              "    </tr>\n",
              "    <tr>\n",
              "      <th>639160</th>\n",
              "      <td>[GN0105, GN0101]</td>\n",
              "      <td>20170922</td>\n",
              "      <td>꽃갈피 둘</td>\n",
              "      <td>10096855</td>\n",
              "      <td>[261143]</td>\n",
              "      <td>비밀의 화원</td>\n",
              "      <td>[GN0100]</td>\n",
              "      <td>[아이유]</td>\n",
              "      <td>639160</td>\n",
              "    </tr>\n",
              "    <tr>\n",
              "      <th>119850</th>\n",
              "      <td>[GN1806, GN1801]</td>\n",
              "      <td>20131216</td>\n",
              "      <td>눈 오는 날 골목길 피아노 (Snow)</td>\n",
              "      <td>2221597</td>\n",
              "      <td>[727946]</td>\n",
              "      <td>군고구마와 군밤</td>\n",
              "      <td>[GN1800]</td>\n",
              "      <td>[Littlepiano]</td>\n",
              "      <td>119850</td>\n",
              "    </tr>\n",
              "    <tr>\n",
              "      <th>522124</th>\n",
              "      <td>[GN2001]</td>\n",
              "      <td>20110829</td>\n",
              "      <td>Tassili</td>\n",
              "      <td>2008791</td>\n",
              "      <td>[551807]</td>\n",
              "      <td>Takkest Tamidaret</td>\n",
              "      <td>[GN2000]</td>\n",
              "      <td>[Tinariwen]</td>\n",
              "      <td>522124</td>\n",
              "    </tr>\n",
              "    <tr>\n",
              "      <th>501754</th>\n",
              "      <td>[GN1501, GN1504]</td>\n",
              "      <td>20150821</td>\n",
              "      <td>오 나의 귀신님 OST</td>\n",
              "      <td>2335932</td>\n",
              "      <td>[446560, 875549]</td>\n",
              "      <td>오 나의 귀신님</td>\n",
              "      <td>[GN1500]</td>\n",
              "      <td>[한소현, 제이미박]</td>\n",
              "      <td>501754</td>\n",
              "    </tr>\n",
              "    <tr>\n",
              "      <th>210200</th>\n",
              "      <td>[GN1806, GN1801]</td>\n",
              "      <td>20100730</td>\n",
              "      <td>Landscape</td>\n",
              "      <td>981356</td>\n",
              "      <td>[1410]</td>\n",
              "      <td>Coffee For One</td>\n",
              "      <td>[GN1800]</td>\n",
              "      <td>[김인주]</td>\n",
              "      <td>210200</td>\n",
              "    </tr>\n",
              "    <tr>\n",
              "      <th>222067</th>\n",
              "      <td>[GN1501, GN1504]</td>\n",
              "      <td>20161110</td>\n",
              "      <td>질투의 화신 OST</td>\n",
              "      <td>10014143</td>\n",
              "      <td>[510447]</td>\n",
              "      <td>월화수목금토일</td>\n",
              "      <td>[GN1500]</td>\n",
              "      <td>[제이레빗(J Rabbit)]</td>\n",
              "      <td>222067</td>\n",
              "    </tr>\n",
              "    <tr>\n",
              "      <th>195227</th>\n",
              "      <td>[GN2601, GN0501, GN0504, GN0509]</td>\n",
              "      <td>20180105</td>\n",
              "      <td>~</td>\n",
              "      <td>10125701</td>\n",
              "      <td>[2018412]</td>\n",
              "      <td>Obsession</td>\n",
              "      <td>[GN0500, GN2600]</td>\n",
              "      <td>[낯선아이]</td>\n",
              "      <td>195227</td>\n",
              "    </tr>\n",
              "    <tr>\n",
              "      <th>506202</th>\n",
              "      <td>[GN0501, GN0502, GN0801, GN0509]</td>\n",
              "      <td>20151124</td>\n",
              "      <td>완벽해</td>\n",
              "      <td>2652329</td>\n",
              "      <td>[758115]</td>\n",
              "      <td>완벽해 (Feat. 수하)</td>\n",
              "      <td>[GN0500, GN0800]</td>\n",
              "      <td>[여우들]</td>\n",
              "      <td>506202</td>\n",
              "    </tr>\n",
              "  </tbody>\n",
              "</table>\n",
              "</div>"
            ],
            "text/plain": [
              "                          song_gn_dtl_gnr_basket  ...      id\n",
              "360045  [GN0501, GN0601, GN0503, GN0606, GN0509]  ...  360045\n",
              "646833  [GN0805, GN0501, GN0502, GN0801, GN0509]  ...  646833\n",
              "575265                          [GN0801, GN0802]  ...  575265\n",
              "332962                                  [GN0101]  ...  332962\n",
              "8706                            [GN0805, GN0801]  ...    8706\n",
              "646278                                  [GN1701]  ...  646278\n",
              "272355  [GN0805, GN0501, GN0502, GN0801, GN0509]  ...  272355\n",
              "639160                          [GN0105, GN0101]  ...  639160\n",
              "119850                          [GN1806, GN1801]  ...  119850\n",
              "522124                                  [GN2001]  ...  522124\n",
              "501754                          [GN1501, GN1504]  ...  501754\n",
              "210200                          [GN1806, GN1801]  ...  210200\n",
              "222067                          [GN1501, GN1504]  ...  222067\n",
              "195227          [GN2601, GN0501, GN0504, GN0509]  ...  195227\n",
              "506202          [GN0501, GN0502, GN0801, GN0509]  ...  506202\n",
              "\n",
              "[15 rows x 9 columns]"
            ]
          },
          "metadata": {
            "tags": []
          }
        }
      ]
    },
    {
      "cell_type": "markdown",
      "metadata": {
        "id": "vRUZStlFg3Mf"
      },
      "source": [
        "**크러쉬 정보가 전혀 없다 ..**\n",
        "벡터를 더해버렸으니 그럴 수 있지만 .... 그래두 ...."
      ]
    },
    {
      "cell_type": "code",
      "metadata": {
        "colab": {
          "base_uri": "https://localhost:8080/",
          "height": 467
        },
        "id": "cr5XjmVXGiht",
        "outputId": "58c80696-cf7d-467c-cf5e-a2a0948d053d"
      },
      "source": [
        "songs = rec.title_based_recommend('크러쉬가 부르는 잔잔 발라드',10)"
      ],
      "execution_count": 564,
      "outputs": [
        {
          "output_type": "stream",
          "text": [
            "> raw title : 크러쉬가부르는잔잔발라드\n",
            "> Extracted tags : ['발라드', '잔잔', '크러쉬']\n",
            "> sims : [(0.23998842, ('발라드', '잔잔')), (0.18575108, ('발라드', '크러쉬')), (0.20158195, ('잔잔', '크러쉬'))]\n",
            "> threshold : 0.20202228128910066\n",
            "> Filtered tags : ['발라드', '잔잔']\n",
            "> Similar items : [('씁쓸', 0.723), ('어쿠스틱음악', 0.706), ('47356', 0.704), ('밤에듣기좋은곡', 0.698), ('인디발라드', 0.697), ('172479', 0.697), ('낙옆', 0.697), ('670465', 0.696), ('보고싶음', 0.69), ('610513', 0.69)]\n"
          ],
          "name": "stdout"
        },
        {
          "output_type": "display_data",
          "data": {
            "text/html": [
              "<div>\n",
              "<style scoped>\n",
              "    .dataframe tbody tr th:only-of-type {\n",
              "        vertical-align: middle;\n",
              "    }\n",
              "\n",
              "    .dataframe tbody tr th {\n",
              "        vertical-align: top;\n",
              "    }\n",
              "\n",
              "    .dataframe thead th {\n",
              "        text-align: right;\n",
              "    }\n",
              "</style>\n",
              "<table border=\"1\" class=\"dataframe\">\n",
              "  <thead>\n",
              "    <tr style=\"text-align: right;\">\n",
              "      <th></th>\n",
              "      <th>song_gn_dtl_gnr_basket</th>\n",
              "      <th>issue_date</th>\n",
              "      <th>album_name</th>\n",
              "      <th>album_id</th>\n",
              "      <th>artist_id_basket</th>\n",
              "      <th>song_name</th>\n",
              "      <th>song_gn_gnr_basket</th>\n",
              "      <th>artist_name_basket</th>\n",
              "      <th>id</th>\n",
              "    </tr>\n",
              "  </thead>\n",
              "  <tbody>\n",
              "    <tr>\n",
              "      <th>47356</th>\n",
              "      <td>[GN0509, GN0105, GN0101, GN0506, GN0501]</td>\n",
              "      <td>20171114</td>\n",
              "      <td>그런 날</td>\n",
              "      <td>10110979</td>\n",
              "      <td>[672314]</td>\n",
              "      <td>그런 날</td>\n",
              "      <td>[GN0500, GN0100]</td>\n",
              "      <td>[신기남]</td>\n",
              "      <td>47356</td>\n",
              "    </tr>\n",
              "    <tr>\n",
              "      <th>172479</th>\n",
              "      <td>[GN0501, GN0101, GN0506, GN0509]</td>\n",
              "      <td>20170307</td>\n",
              "      <td>Happy Together</td>\n",
              "      <td>10043583</td>\n",
              "      <td>[1382184]</td>\n",
              "      <td>Happy Together</td>\n",
              "      <td>[GN0500, GN0100]</td>\n",
              "      <td>[인환]</td>\n",
              "      <td>172479</td>\n",
              "    </tr>\n",
              "    <tr>\n",
              "      <th>670465</th>\n",
              "      <td>[GN0105, GN0101]</td>\n",
              "      <td>20171103</td>\n",
              "      <td>가을 햇살속에서</td>\n",
              "      <td>10108422</td>\n",
              "      <td>[764300]</td>\n",
              "      <td>가을 햇살속에서</td>\n",
              "      <td>[GN0100]</td>\n",
              "      <td>[더 라임]</td>\n",
              "      <td>670465</td>\n",
              "    </tr>\n",
              "    <tr>\n",
              "      <th>610513</th>\n",
              "      <td>[GN0105, GN0101]</td>\n",
              "      <td>20170602</td>\n",
              "      <td>잊지 못해</td>\n",
              "      <td>10067953</td>\n",
              "      <td>[1758498]</td>\n",
              "      <td>잊지 못해</td>\n",
              "      <td>[GN0100]</td>\n",
              "      <td>[더블오케이]</td>\n",
              "      <td>610513</td>\n",
              "    </tr>\n",
              "    <tr>\n",
              "      <th>556041</th>\n",
              "      <td>[GN0401, GN0403]</td>\n",
              "      <td>20180112</td>\n",
              "      <td>Drama</td>\n",
              "      <td>10128138</td>\n",
              "      <td>[1703493]</td>\n",
              "      <td>Drama (Feat. Min:D)</td>\n",
              "      <td>[GN0400]</td>\n",
              "      <td>[노이케이 (Noi.K)]</td>\n",
              "      <td>556041</td>\n",
              "    </tr>\n",
              "    <tr>\n",
              "      <th>181249</th>\n",
              "      <td>[GN0509, GN0105, GN0101, GN0506, GN0501]</td>\n",
              "      <td>20190421</td>\n",
              "      <td>독백</td>\n",
              "      <td>10276274</td>\n",
              "      <td>[2112076]</td>\n",
              "      <td>희망고문 (Vocal by 잎샘)</td>\n",
              "      <td>[GN0500, GN0100]</td>\n",
              "      <td>[필름아일랜드]</td>\n",
              "      <td>181249</td>\n",
              "    </tr>\n",
              "    <tr>\n",
              "      <th>463400</th>\n",
              "      <td>[GN0501, GN0101, GN0506, GN0509]</td>\n",
              "      <td>20180326</td>\n",
              "      <td>널</td>\n",
              "      <td>10150803</td>\n",
              "      <td>[905133]</td>\n",
              "      <td>널 (Feat. 이한솔)</td>\n",
              "      <td>[GN0500, GN0100]</td>\n",
              "      <td>[조우리 (샘샘트리오)]</td>\n",
              "      <td>463400</td>\n",
              "    </tr>\n",
              "    <tr>\n",
              "      <th>591427</th>\n",
              "      <td>[GN0501, GN0101, GN0506, GN0509]</td>\n",
              "      <td>20171011</td>\n",
              "      <td>내 방 침대위엔</td>\n",
              "      <td>10101127</td>\n",
              "      <td>[1625333]</td>\n",
              "      <td>내 방 침대 위엔</td>\n",
              "      <td>[GN0500, GN0100]</td>\n",
              "      <td>[코튼페이퍼]</td>\n",
              "      <td>591427</td>\n",
              "    </tr>\n",
              "    <tr>\n",
              "      <th>478358</th>\n",
              "      <td>[GN0101]</td>\n",
              "      <td>20170919</td>\n",
              "      <td>END</td>\n",
              "      <td>10097192</td>\n",
              "      <td>[1910712]</td>\n",
              "      <td>END</td>\n",
              "      <td>[GN0100]</td>\n",
              "      <td>[Moonde]</td>\n",
              "      <td>478358</td>\n",
              "    </tr>\n",
              "    <tr>\n",
              "      <th>459600</th>\n",
              "      <td>[GN0105, GN0101]</td>\n",
              "      <td>20170505</td>\n",
              "      <td>한동근 1ST ALBUM `Your Diary`</td>\n",
              "      <td>10059997</td>\n",
              "      <td>[711476]</td>\n",
              "      <td>지겹다</td>\n",
              "      <td>[GN0100]</td>\n",
              "      <td>[한동근]</td>\n",
              "      <td>459600</td>\n",
              "    </tr>\n",
              "  </tbody>\n",
              "</table>\n",
              "</div>"
            ],
            "text/plain": [
              "                          song_gn_dtl_gnr_basket  ...      id\n",
              "47356   [GN0509, GN0105, GN0101, GN0506, GN0501]  ...   47356\n",
              "172479          [GN0501, GN0101, GN0506, GN0509]  ...  172479\n",
              "670465                          [GN0105, GN0101]  ...  670465\n",
              "610513                          [GN0105, GN0101]  ...  610513\n",
              "556041                          [GN0401, GN0403]  ...  556041\n",
              "181249  [GN0509, GN0105, GN0101, GN0506, GN0501]  ...  181249\n",
              "463400          [GN0501, GN0101, GN0506, GN0509]  ...  463400\n",
              "591427          [GN0501, GN0101, GN0506, GN0509]  ...  591427\n",
              "478358                                  [GN0101]  ...  478358\n",
              "459600                          [GN0105, GN0101]  ...  459600\n",
              "\n",
              "[10 rows x 9 columns]"
            ]
          },
          "metadata": {
            "tags": []
          }
        }
      ]
    },
    {
      "cell_type": "markdown",
      "metadata": {
        "id": "jnzazWDxhTcg"
      },
      "source": [
        "**크러쉬가 혼자 있다면 괜찮은 결과**"
      ]
    },
    {
      "cell_type": "code",
      "metadata": {
        "colab": {
          "base_uri": "https://localhost:8080/",
          "height": 431
        },
        "id": "ljQwts2mhQgC",
        "outputId": "f6098126-e11a-436a-9c2f-c5d1fbe2f19d"
      },
      "source": [
        "songs = rec.title_based_recommend('크러쉬',10)"
      ],
      "execution_count": 565,
      "outputs": [
        {
          "output_type": "stream",
          "text": [
            "> raw title : 크러쉬\n",
            "> Extracted tags : ['크러쉬']\n",
            "> Filtered tags : ['크러쉬']\n",
            "> Similar items : [('딘', 0.752), ('밀릭', 0.724), ('fanxychild', 0.723), ('팬시차일드', 0.722), ('페노메코', 0.71), ('DEAN', 0.709), ('Crush', 0.704), ('231100', 0.68), ('470732', 0.655), ('225139', 0.647)]\n"
          ],
          "name": "stdout"
        },
        {
          "output_type": "display_data",
          "data": {
            "text/html": [
              "<div>\n",
              "<style scoped>\n",
              "    .dataframe tbody tr th:only-of-type {\n",
              "        vertical-align: middle;\n",
              "    }\n",
              "\n",
              "    .dataframe tbody tr th {\n",
              "        vertical-align: top;\n",
              "    }\n",
              "\n",
              "    .dataframe thead th {\n",
              "        text-align: right;\n",
              "    }\n",
              "</style>\n",
              "<table border=\"1\" class=\"dataframe\">\n",
              "  <thead>\n",
              "    <tr style=\"text-align: right;\">\n",
              "      <th></th>\n",
              "      <th>song_gn_dtl_gnr_basket</th>\n",
              "      <th>issue_date</th>\n",
              "      <th>album_name</th>\n",
              "      <th>album_id</th>\n",
              "      <th>artist_id_basket</th>\n",
              "      <th>song_name</th>\n",
              "      <th>song_gn_gnr_basket</th>\n",
              "      <th>artist_name_basket</th>\n",
              "      <th>id</th>\n",
              "    </tr>\n",
              "  </thead>\n",
              "  <tbody>\n",
              "    <tr>\n",
              "      <th>231100</th>\n",
              "      <td>[GN0401]</td>\n",
              "      <td>20191205</td>\n",
              "      <td>From Midnight To Sunrise</td>\n",
              "      <td>10361387</td>\n",
              "      <td>[674710]</td>\n",
              "      <td>Wonderlust (Feat. Band Wonderlust)</td>\n",
              "      <td>[GN0400]</td>\n",
              "      <td>[Crush]</td>\n",
              "      <td>231100</td>\n",
              "    </tr>\n",
              "    <tr>\n",
              "      <th>470732</th>\n",
              "      <td>[GN0401, GN0402]</td>\n",
              "      <td>20191205</td>\n",
              "      <td>From Midnight To Sunrise</td>\n",
              "      <td>10361387</td>\n",
              "      <td>[674710]</td>\n",
              "      <td>Cloth</td>\n",
              "      <td>[GN0400]</td>\n",
              "      <td>[Crush]</td>\n",
              "      <td>470732</td>\n",
              "    </tr>\n",
              "    <tr>\n",
              "      <th>225139</th>\n",
              "      <td>[GN0401, GN0403]</td>\n",
              "      <td>20160617</td>\n",
              "      <td>후미등 (Taillight)</td>\n",
              "      <td>2691778</td>\n",
              "      <td>[861257]</td>\n",
              "      <td>후미등 (Taillight)</td>\n",
              "      <td>[GN0400]</td>\n",
              "      <td>[충완]</td>\n",
              "      <td>225139</td>\n",
              "    </tr>\n",
              "    <tr>\n",
              "      <th>508973</th>\n",
              "      <td>[GN0303, GN0301]</td>\n",
              "      <td>20181220</td>\n",
              "      <td>Garden</td>\n",
              "      <td>10235475</td>\n",
              "      <td>[787227]</td>\n",
              "      <td>COOL (Feat. Tobi Lou)</td>\n",
              "      <td>[GN0300]</td>\n",
              "      <td>[페노메코 (PENOMECO)]</td>\n",
              "      <td>508973</td>\n",
              "    </tr>\n",
              "    <tr>\n",
              "      <th>67386</th>\n",
              "      <td>[GN0303, GN0301]</td>\n",
              "      <td>20170916</td>\n",
              "      <td>쇼미더머니 6 Special</td>\n",
              "      <td>10096841</td>\n",
              "      <td>[340669]</td>\n",
              "      <td>bestdriverZ (Feat. Zion.T, DEAN)</td>\n",
              "      <td>[GN0300]</td>\n",
              "      <td>[행주]</td>\n",
              "      <td>67386</td>\n",
              "    </tr>\n",
              "    <tr>\n",
              "      <th>561157</th>\n",
              "      <td>[GN0401, GN0402]</td>\n",
              "      <td>20180713</td>\n",
              "      <td>wonderlost</td>\n",
              "      <td>10184916</td>\n",
              "      <td>[674710]</td>\n",
              "      <td>RYO (Feat. CIFIKA, Byung Un of Balming Tiger)</td>\n",
              "      <td>[GN0400]</td>\n",
              "      <td>[Crush]</td>\n",
              "      <td>561157</td>\n",
              "    </tr>\n",
              "    <tr>\n",
              "      <th>145755</th>\n",
              "      <td>[GN0501, GN0304, GN0505, GN0301]</td>\n",
              "      <td>20171020</td>\n",
              "      <td>1AM (Have A Good Night) (Prod.by Wildwhip)</td>\n",
              "      <td>10104013</td>\n",
              "      <td>[873668]</td>\n",
              "      <td>1AM (Have A Good Night) (Prod.by Wildwhip)</td>\n",
              "      <td>[GN0500, GN0300]</td>\n",
              "      <td>[Lil Prince]</td>\n",
              "      <td>145755</td>\n",
              "    </tr>\n",
              "    <tr>\n",
              "      <th>127406</th>\n",
              "      <td>[GN0401, GN0403, GN0402]</td>\n",
              "      <td>20161216</td>\n",
              "      <td>On And On</td>\n",
              "      <td>10023711</td>\n",
              "      <td>[735515]</td>\n",
              "      <td>Lust (Feat. ELO)</td>\n",
              "      <td>[GN0400]</td>\n",
              "      <td>[Hoody (후디)]</td>\n",
              "      <td>127406</td>\n",
              "    </tr>\n",
              "    <tr>\n",
              "      <th>454522</th>\n",
              "      <td>[GN0401, GN0403, GN0402]</td>\n",
              "      <td>20160324</td>\n",
              "      <td>130 mood : TRBL</td>\n",
              "      <td>2674623</td>\n",
              "      <td>[880630]</td>\n",
              "      <td>bonnie &amp; clyde</td>\n",
              "      <td>[GN0400]</td>\n",
              "      <td>[DEAN]</td>\n",
              "      <td>454522</td>\n",
              "    </tr>\n",
              "    <tr>\n",
              "      <th>487705</th>\n",
              "      <td>[GN0401, GN0403, GN0402]</td>\n",
              "      <td>20160324</td>\n",
              "      <td>130 mood : TRBL</td>\n",
              "      <td>2674623</td>\n",
              "      <td>[880630]</td>\n",
              "      <td>i love it (Feat. Dok2)</td>\n",
              "      <td>[GN0400]</td>\n",
              "      <td>[DEAN]</td>\n",
              "      <td>487705</td>\n",
              "    </tr>\n",
              "  </tbody>\n",
              "</table>\n",
              "</div>"
            ],
            "text/plain": [
              "                  song_gn_dtl_gnr_basket  issue_date  ... artist_name_basket      id\n",
              "231100                          [GN0401]    20191205  ...            [Crush]  231100\n",
              "470732                  [GN0401, GN0402]    20191205  ...            [Crush]  470732\n",
              "225139                  [GN0401, GN0403]    20160617  ...               [충완]  225139\n",
              "508973                  [GN0303, GN0301]    20181220  ...  [페노메코 (PENOMECO)]  508973\n",
              "67386                   [GN0303, GN0301]    20170916  ...               [행주]   67386\n",
              "561157                  [GN0401, GN0402]    20180713  ...            [Crush]  561157\n",
              "145755  [GN0501, GN0304, GN0505, GN0301]    20171020  ...       [Lil Prince]  145755\n",
              "127406          [GN0401, GN0403, GN0402]    20161216  ...       [Hoody (후디)]  127406\n",
              "454522          [GN0401, GN0403, GN0402]    20160324  ...             [DEAN]  454522\n",
              "487705          [GN0401, GN0403, GN0402]    20160324  ...             [DEAN]  487705\n",
              "\n",
              "[10 rows x 9 columns]"
            ]
          },
          "metadata": {
            "tags": []
          }
        }
      ]
    },
    {
      "cell_type": "markdown",
      "metadata": {
        "id": "SDdCnTVFcEWt"
      },
      "source": [
        "# **점수 체크**"
      ]
    },
    {
      "cell_type": "code",
      "metadata": {
        "id": "UzZK6DpA6Osy"
      },
      "source": [
        "import numpy as np\n",
        "\n",
        "class ArenaEvaluator:\n",
        "    def _idcg(self, l):\n",
        "        return sum((1.0 / np.log(i + 2) for i in range(l)))\n",
        "\n",
        "    def __init__(self):\n",
        "        self._idcgs = [self._idcg(i) for i in range(101)]\n",
        "\n",
        "    def _ndcg(self, gt, rec):\n",
        "        dcg = 0.0\n",
        "        for i, r in enumerate(rec):\n",
        "            if r in gt:\n",
        "                dcg += 1.0 / np.log(i + 2)\n",
        "\n",
        "        return dcg / self._idcgs[len(gt)]\n",
        "\n",
        "    def _load_json(self,fname):\n",
        "        with open(fname, encoding=\"utf-8\") as f:\n",
        "            json_obj = json.load(f)\n",
        "\n",
        "        return json_obj\n",
        "\n",
        "    def _eval(self, gt_fname, rec_fname):\n",
        "        gt_playlists = self._load_json(gt_fname)\n",
        "        gt_dict = {g[\"id\"]: g for g in gt_playlists}\n",
        "        rec_playlists = self._load_json(rec_fname)\n",
        "\n",
        "        gt_ids = set([g[\"id\"] for g in gt_playlists])\n",
        "        rec_ids = set([r[\"id\"] for r in rec_playlists])\n",
        "\n",
        "        if gt_ids != rec_ids:\n",
        "            raise Exception(\"결과의 플레이리스트 수가 올바르지 않습니다.\")\n",
        "\n",
        "        rec_song_counts = [len(p[\"songs\"]) for p in rec_playlists]\n",
        "        rec_tag_counts = [len(p[\"tags\"]) for p in rec_playlists]\n",
        "\n",
        "        if set(rec_song_counts) != set([100]):\n",
        "            raise Exception(\"추천 곡 결과의 개수가 맞지 않습니다.\")\n",
        "\n",
        "        if set(rec_tag_counts) != set([10]):\n",
        "            raise Exception(\"추천 태그 결과의 개수가 맞지 않습니다.\")\n",
        "\n",
        "        rec_unique_song_counts = [len(set(p[\"songs\"])) for p in rec_playlists]\n",
        "        rec_unique_tag_counts = [len(set(p[\"tags\"])) for p in rec_playlists]\n",
        "\n",
        "        if set(rec_unique_song_counts) != set([100]):\n",
        "            raise Exception(\"한 플레이리스트에 중복된 곡 추천은 허용되지 않습니다.\")\n",
        "\n",
        "        if set(rec_unique_tag_counts) != set([10]):\n",
        "            raise Exception(\"한 플레이리스트에 중복된 태그 추천은 허용되지 않습니다.\")\n",
        "\n",
        "        music_ndcg = 0.0\n",
        "        tag_ndcg = 0.0\n",
        "\n",
        "        for rec in rec_playlists:\n",
        "            gt = gt_dict[rec[\"id\"]]\n",
        "            music_ndcg += self._ndcg(gt[\"songs\"], rec[\"songs\"][:100])\n",
        "            tag_ndcg += self._ndcg(gt[\"tags\"], rec[\"tags\"][:10])\n",
        "\n",
        "        music_ndcg = music_ndcg / len(rec_playlists)\n",
        "        tag_ndcg = tag_ndcg / len(rec_playlists)\n",
        "        score = music_ndcg * 0.85 + tag_ndcg * 0.15\n",
        "\n",
        "        return music_ndcg, tag_ndcg, score\n",
        "\n",
        "    def evaluate(self, gt_fname, rec_fname):\n",
        "        try:\n",
        "            music_ndcg, tag_ndcg, score = self._eval(gt_fname, rec_fname)\n",
        "            print(f\"Music nDCG: {music_ndcg:.6}\")\n",
        "            print(f\"Tag nDCG: {tag_ndcg:.6}\")\n",
        "            print(f\"Score: {score:.6}\")\n",
        "        except Exception as e:\n",
        "            print(e)"
      ],
      "execution_count": 18,
      "outputs": []
    },
    {
      "cell_type": "code",
      "metadata": {
        "id": "4sn3fkw98Tgq"
      },
      "source": [
        "evaluator = ArenaEvaluator()"
      ],
      "execution_count": 19,
      "outputs": []
    },
    {
      "cell_type": "code",
      "metadata": {
        "id": "o9r3EKw6iPLg"
      },
      "source": [
        ""
      ],
      "execution_count": null,
      "outputs": []
    }
  ]
}